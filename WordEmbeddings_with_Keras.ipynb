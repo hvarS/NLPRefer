{
  "nbformat": 4,
  "nbformat_minor": 0,
  "metadata": {
    "colab": {
      "name": "WordEmbeddings_with_Keras.ipynb",
      "provenance": [],
      "authorship_tag": "ABX9TyPUNFHmu0Vgf5ZPokqf34YL",
      "include_colab_link": true
    },
    "kernelspec": {
      "name": "python3",
      "display_name": "Python 3"
    },
    "language_info": {
      "name": "python"
    }
  },
  "cells": [
    {
      "cell_type": "markdown",
      "metadata": {
        "id": "view-in-github",
        "colab_type": "text"
      },
      "source": [
        "<a href=\"https://colab.research.google.com/github/hvarS/NLPRefer/blob/main/WordEmbeddings_with_Keras.ipynb\" target=\"_parent\"><img src=\"https://colab.research.google.com/assets/colab-badge.svg\" alt=\"Open In Colab\"/></a>"
      ]
    },
    {
      "cell_type": "code",
      "metadata": {
        "id": "PbxnO_dtGHZ5"
      },
      "source": [
        "from tensorflow.keras.preprocessing.text import one_hot"
      ],
      "execution_count": 1,
      "outputs": []
    },
    {
      "cell_type": "code",
      "metadata": {
        "id": "EaUeSKWdGUEy"
      },
      "source": [
        "##Sentences \n",
        "sent = [\n",
        "        \"This is a great life\",\n",
        "        \"I need water\",\n",
        "        \"I am a coder\"\n",
        "]"
      ],
      "execution_count": 2,
      "outputs": []
    },
    {
      "cell_type": "code",
      "metadata": {
        "colab": {
          "base_uri": "https://localhost:8080/"
        },
        "id": "Qu3E8vHUGeaE",
        "outputId": "6c676e6e-e286-48cd-ed48-9e5dab6a46f9"
      },
      "source": [
        "sent"
      ],
      "execution_count": 3,
      "outputs": [
        {
          "output_type": "execute_result",
          "data": {
            "text/plain": [
              "['This is a great life', 'I need water', 'I am a coder']"
            ]
          },
          "metadata": {
            "tags": []
          },
          "execution_count": 3
        }
      ]
    },
    {
      "cell_type": "code",
      "metadata": {
        "id": "wu77FLxwGfmm"
      },
      "source": [
        "##Define vocabulary size from which we will extract the embeddings\n",
        "vocab_size = 50000"
      ],
      "execution_count": 4,
      "outputs": []
    },
    {
      "cell_type": "markdown",
      "metadata": {
        "id": "MvYtWU2VGwyT"
      },
      "source": [
        "###One hot representation of the sentences (kind of like Label Encoding in Tabular Data)"
      ]
    },
    {
      "cell_type": "code",
      "metadata": {
        "id": "J4XiWnqtGpTZ"
      },
      "source": [
        "repr = [one_hot(sentence,vocab_size) for sentence in sent]"
      ],
      "execution_count": 5,
      "outputs": []
    },
    {
      "cell_type": "code",
      "metadata": {
        "colab": {
          "base_uri": "https://localhost:8080/"
        },
        "id": "uJ-uiwycHHWc",
        "outputId": "ccfeb309-9cc9-414e-f2d7-8d0109e94a71"
      },
      "source": [
        "repr"
      ],
      "execution_count": 6,
      "outputs": [
        {
          "output_type": "execute_result",
          "data": {
            "text/plain": [
              "[[14686, 18505, 14782, 12612, 45013],\n",
              " [7862, 3313, 37146],\n",
              " [7862, 32421, 14782, 9155]]"
            ]
          },
          "metadata": {
            "tags": []
          },
          "execution_count": 6
        }
      ]
    },
    {
      "cell_type": "markdown",
      "metadata": {
        "id": "PNHCmcK8HMDm"
      },
      "source": [
        "###Word Embedding Representation"
      ]
    },
    {
      "cell_type": "code",
      "metadata": {
        "id": "OWfwpTNnHOdG"
      },
      "source": [
        "from tensorflow.keras.layers import Embedding\n",
        "from tensorflow.keras.preprocessing.sequence import pad_sequences\n",
        "from keras.models import Sequential"
      ],
      "execution_count": 7,
      "outputs": []
    },
    {
      "cell_type": "code",
      "metadata": {
        "id": "Pnw__H9AHnuB"
      },
      "source": [
        "import numpy as np"
      ],
      "execution_count": 8,
      "outputs": []
    },
    {
      "cell_type": "code",
      "metadata": {
        "id": "vBHxRGYUHqXK"
      },
      "source": [
        "max_sent_length = max([len(s) for s in repr])"
      ],
      "execution_count": 9,
      "outputs": []
    },
    {
      "cell_type": "code",
      "metadata": {
        "colab": {
          "base_uri": "https://localhost:8080/"
        },
        "id": "iBv0szIxICAm",
        "outputId": "9ebe414a-fbcb-45f2-a341-36cf6866805b"
      },
      "source": [
        "max_sent_length"
      ],
      "execution_count": 10,
      "outputs": [
        {
          "output_type": "execute_result",
          "data": {
            "text/plain": [
              "5"
            ]
          },
          "metadata": {
            "tags": []
          },
          "execution_count": 10
        }
      ]
    },
    {
      "cell_type": "code",
      "metadata": {
        "id": "zDvKonBdIF34"
      },
      "source": [
        "padded_sentences = pad_sequences(repr,maxlen = max_sent_length,padding=\"post\")"
      ],
      "execution_count": 11,
      "outputs": []
    },
    {
      "cell_type": "code",
      "metadata": {
        "colab": {
          "base_uri": "https://localhost:8080/"
        },
        "id": "Twe9IA-OIUH4",
        "outputId": "636c5481-de9d-48f1-a276-c72ead631585"
      },
      "source": [
        "print(padded_sentences)"
      ],
      "execution_count": 12,
      "outputs": [
        {
          "output_type": "stream",
          "text": [
            "[[14686 18505 14782 12612 45013]\n",
            " [ 7862  3313 37146     0     0]\n",
            " [ 7862 32421 14782  9155     0]]\n"
          ],
          "name": "stdout"
        }
      ]
    },
    {
      "cell_type": "code",
      "metadata": {
        "id": "L0vltvu-IWdN"
      },
      "source": [
        "#Defining the embedding dimension\n",
        "dims = 300"
      ],
      "execution_count": 16,
      "outputs": []
    },
    {
      "cell_type": "code",
      "metadata": {
        "id": "Dz3UrZ22IchY"
      },
      "source": [
        "model = Sequential()\n"
      ],
      "execution_count": 14,
      "outputs": []
    },
    {
      "cell_type": "code",
      "metadata": {
        "id": "cknJ27BOIfqF"
      },
      "source": [
        "model.add(Embedding(vocab_size,dims,input_length=max_sent_length))\n",
        "model.compile(optimizer=\"adam\",loss = \"mse\")"
      ],
      "execution_count": 17,
      "outputs": []
    },
    {
      "cell_type": "code",
      "metadata": {
        "colab": {
          "base_uri": "https://localhost:8080/"
        },
        "id": "FgnxokN1JK_4",
        "outputId": "c60a8ba6-f998-4e14-f4dc-5fd632aefb24"
      },
      "source": [
        "model.summary()"
      ],
      "execution_count": 18,
      "outputs": [
        {
          "output_type": "stream",
          "text": [
            "Model: \"sequential\"\n",
            "_________________________________________________________________\n",
            "Layer (type)                 Output Shape              Param #   \n",
            "=================================================================\n",
            "embedding (Embedding)        (None, 5, 300)            15000000  \n",
            "=================================================================\n",
            "Total params: 15,000,000\n",
            "Trainable params: 15,000,000\n",
            "Non-trainable params: 0\n",
            "_________________________________________________________________\n"
          ],
          "name": "stdout"
        }
      ]
    },
    {
      "cell_type": "code",
      "metadata": {
        "id": "F1EkoGlqJSaE"
      },
      "source": [
        "embeddings = model.predict(padded_sentences)"
      ],
      "execution_count": 26,
      "outputs": []
    },
    {
      "cell_type": "code",
      "metadata": {
        "colab": {
          "base_uri": "https://localhost:8080/"
        },
        "id": "OiiglAEEJ5D9",
        "outputId": "226c8ea6-dbc3-4924-b5e5-e3ff1a130d58"
      },
      "source": [
        "type(embeddings)"
      ],
      "execution_count": 28,
      "outputs": [
        {
          "output_type": "execute_result",
          "data": {
            "text/plain": [
              "numpy.ndarray"
            ]
          },
          "metadata": {
            "tags": []
          },
          "execution_count": 28
        }
      ]
    },
    {
      "cell_type": "code",
      "metadata": {
        "colab": {
          "base_uri": "https://localhost:8080/"
        },
        "id": "ZiNQY0dqJ11F",
        "outputId": "30d1cd69-8186-4ce3-d784-66b31fac9809"
      },
      "source": [
        "embeddings.shape"
      ],
      "execution_count": 27,
      "outputs": [
        {
          "output_type": "execute_result",
          "data": {
            "text/plain": [
              "(3, 5, 300)"
            ]
          },
          "metadata": {
            "tags": []
          },
          "execution_count": 27
        }
      ]
    },
    {
      "cell_type": "code",
      "metadata": {
        "id": "PldAJYTBJsag"
      },
      "source": [
        "embeddings_direct = model(padded_sentences)"
      ],
      "execution_count": 24,
      "outputs": []
    },
    {
      "cell_type": "code",
      "metadata": {
        "colab": {
          "base_uri": "https://localhost:8080/"
        },
        "id": "Fd5CJN3VJfeL",
        "outputId": "1c0a7c34-687a-453a-80c5-4f69dc0f354d"
      },
      "source": [
        "embeddings_direct.shape"
      ],
      "execution_count": 25,
      "outputs": [
        {
          "output_type": "execute_result",
          "data": {
            "text/plain": [
              "TensorShape([3, 5, 300])"
            ]
          },
          "metadata": {
            "tags": []
          },
          "execution_count": 25
        }
      ]
    },
    {
      "cell_type": "code",
      "metadata": {
        "id": "T5oyGDj9Jgvt"
      },
      "source": [
        ""
      ],
      "execution_count": null,
      "outputs": []
    }
  ]
}