{
  "nbformat": 4,
  "nbformat_minor": 0,
  "metadata": {
    "colab": {
      "name": "CharLevel_EncoderDecoder.ipynb",
      "provenance": [],
      "authorship_tag": "ABX9TyNHSGOgVnqcVCil230aqnix",
      "include_colab_link": true
    },
    "kernelspec": {
      "name": "python3",
      "display_name": "Python 3"
    },
    "language_info": {
      "name": "python"
    }
  },
  "cells": [
    {
      "cell_type": "markdown",
      "metadata": {
        "id": "view-in-github",
        "colab_type": "text"
      },
      "source": [
        "<a href=\"https://colab.research.google.com/github/hvarS/NLPRefer/blob/main/CharLevel_EncoderDecoder.ipynb\" target=\"_parent\"><img src=\"https://colab.research.google.com/assets/colab-badge.svg\" alt=\"Open In Colab\"/></a>"
      ]
    },
    {
      "cell_type": "code",
      "metadata": {
        "id": "lC99u8L4VwQ9"
      },
      "source": [
        "import numpy as np\n",
        "import tensorflow as tf\n",
        "from tensorflow import keras"
      ],
      "execution_count": 2,
      "outputs": []
    },
    {
      "cell_type": "markdown",
      "metadata": {
        "id": "5SBh85qdXA2v"
      },
      "source": [
        "##Data Download ( Considering Hindi - English Translation )"
      ]
    },
    {
      "cell_type": "code",
      "metadata": {
        "colab": {
          "base_uri": "https://localhost:8080/"
        },
        "id": "s3pCvjbjV9oW",
        "outputId": "46aed627-688e-43ca-caf5-dced656e7966"
      },
      "source": [
        "!!curl -O http://www.manythings.org/anki/hin-eng.zip"
      ],
      "execution_count": 3,
      "outputs": [
        {
          "output_type": "execute_result",
          "data": {
            "text/plain": [
              "['  % Total    % Received % Xferd  Average Speed   Time    Time     Time  Current',\n",
              " '                                 Dload  Upload   Total   Spent    Left  Speed',\n",
              " '',\n",
              " '  0     0    0     0    0     0      0      0 --:--:-- --:--:-- --:--:--     0',\n",
              " ' 10  129k   10 14228    0     0  71497      0  0:00:01 --:--:--  0:00:01 71140',\n",
              " '100  129k  100  129k    0     0   445k      0 --:--:-- --:--:-- --:--:--  444k']"
            ]
          },
          "metadata": {
            "tags": []
          },
          "execution_count": 3
        }
      ]
    },
    {
      "cell_type": "code",
      "metadata": {
        "colab": {
          "base_uri": "https://localhost:8080/"
        },
        "id": "Oc0hC0PvW4Id",
        "outputId": "f8be8b36-fc70-4904-aa67-34ae79d2873a"
      },
      "source": [
        "!unzip hin-eng.zip"
      ],
      "execution_count": 4,
      "outputs": [
        {
          "output_type": "stream",
          "text": [
            "Archive:  hin-eng.zip\n",
            "  inflating: hin.txt                 \n",
            "  inflating: _about.txt              \n"
          ],
          "name": "stdout"
        }
      ]
    },
    {
      "cell_type": "code",
      "metadata": {
        "id": "L7Z884jdW9Cb"
      },
      "source": [
        ""
      ],
      "execution_count": null,
      "outputs": []
    },
    {
      "cell_type": "markdown",
      "metadata": {
        "id": "sFl0aCKpXIer"
      },
      "source": [
        "##Config"
      ]
    },
    {
      "cell_type": "code",
      "metadata": {
        "id": "MdzEbKiEXJuL"
      },
      "source": [
        "batch_size = 64  # Batch size for training.\n",
        "epochs = 100  # Number of epochs to train for.\n",
        "latent_dim = 256  # Latent dimensionality of the encoding space.\n",
        "num_samples = 10000  # Number of samples to train on.\n",
        "# Path to the data txt file on disk.\n",
        "data_path = \"hin.txt\""
      ],
      "execution_count": 5,
      "outputs": []
    },
    {
      "cell_type": "markdown",
      "metadata": {
        "id": "WC6VK52SXqfJ"
      },
      "source": [
        "##Data Preperation"
      ]
    },
    {
      "cell_type": "code",
      "metadata": {
        "id": "eTs8ykF0XvQW"
      },
      "source": [
        "# Vectorize the data.\n",
        "input_texts = []\n",
        "target_texts = []\n",
        "input_characters = set()\n",
        "target_characters = set()\n",
        "with open(data_path, \"r\", encoding=\"utf-8\") as f:\n",
        "    lines = f.read().split(\"\\n\")\n"
      ],
      "execution_count": 6,
      "outputs": []
    },
    {
      "cell_type": "code",
      "metadata": {
        "colab": {
          "base_uri": "https://localhost:8080/"
        },
        "id": "qTqcHeuoYFSs",
        "outputId": "7cfae98d-70c6-483c-f036-aa195cb256c4"
      },
      "source": [
        "len(lines)"
      ],
      "execution_count": 17,
      "outputs": [
        {
          "output_type": "execute_result",
          "data": {
            "text/plain": [
              "2916"
            ]
          },
          "metadata": {
            "tags": []
          },
          "execution_count": 17
        }
      ]
    },
    {
      "cell_type": "markdown",
      "metadata": {
        "id": "8zVenKCJYDLP"
      },
      "source": [
        "Lines Contains Translation of an English Sentence to Hindi with Contributor .\n",
        "These are seperated by \\t"
      ]
    },
    {
      "cell_type": "code",
      "metadata": {
        "id": "sJ6w622aX5Ei"
      },
      "source": [
        "for line in lines[: min(num_samples, len(lines) - 1)]:\n",
        "    input_text, target_text, _ = line.split(\"\\t\")\n",
        "    # We use \"tab\" as the \"start sequence\" character\n",
        "    # for the targets, and \"\\n\" as \"end sequence\" character.\n",
        "    target_text = \"\\t\" + target_text + \"\\n\"\n",
        "    input_texts.append(input_text)\n",
        "    target_texts.append(target_text)\n",
        "    for char in input_text:\n",
        "        if char not in input_characters:\n",
        "            input_characters.add(char)\n",
        "    for char in target_text:\n",
        "        if char not in target_characters:\n",
        "            target_characters.add(char)"
      ],
      "execution_count": 10,
      "outputs": []
    },
    {
      "cell_type": "markdown",
      "metadata": {
        "id": "Fm7SYUUrYjMj"
      },
      "source": [
        "We will get 2 sets of characters in input_characters and target_characters"
      ]
    },
    {
      "cell_type": "code",
      "metadata": {
        "colab": {
          "base_uri": "https://localhost:8080/"
        },
        "id": "hjLuzb-AYiYm",
        "outputId": "aee76dbc-b4f9-4e93-ba3d-83616786110b"
      },
      "source": [
        "target_characters"
      ],
      "execution_count": 12,
      "outputs": [
        {
          "output_type": "execute_result",
          "data": {
            "text/plain": [
              "{'\\t',\n",
              " '\\n',\n",
              " ' ',\n",
              " '!',\n",
              " '\"',\n",
              " '(',\n",
              " ')',\n",
              " ',',\n",
              " '-',\n",
              " '.',\n",
              " ':',\n",
              " '?',\n",
              " 'A',\n",
              " 'B',\n",
              " 'I',\n",
              " '|',\n",
              " 'ँ',\n",
              " 'ं',\n",
              " 'ः',\n",
              " 'अ',\n",
              " 'आ',\n",
              " 'इ',\n",
              " 'ई',\n",
              " 'उ',\n",
              " 'ऊ',\n",
              " 'ऋ',\n",
              " 'ए',\n",
              " 'ऐ',\n",
              " 'ऑ',\n",
              " 'ओ',\n",
              " 'औ',\n",
              " 'क',\n",
              " 'ख',\n",
              " 'ग',\n",
              " 'घ',\n",
              " 'च',\n",
              " 'छ',\n",
              " 'ज',\n",
              " 'झ',\n",
              " 'ञ',\n",
              " 'ट',\n",
              " 'ठ',\n",
              " 'ड',\n",
              " 'ढ',\n",
              " 'ण',\n",
              " 'त',\n",
              " 'थ',\n",
              " 'द',\n",
              " 'ध',\n",
              " 'न',\n",
              " 'प',\n",
              " 'फ',\n",
              " 'ब',\n",
              " 'भ',\n",
              " 'म',\n",
              " 'य',\n",
              " 'र',\n",
              " 'ल',\n",
              " 'व',\n",
              " 'श',\n",
              " 'ष',\n",
              " 'स',\n",
              " 'ह',\n",
              " '़',\n",
              " 'ा',\n",
              " 'ि',\n",
              " 'ी',\n",
              " 'ु',\n",
              " 'ू',\n",
              " 'ृ',\n",
              " 'ॅ',\n",
              " 'े',\n",
              " 'ै',\n",
              " 'ॉ',\n",
              " 'ो',\n",
              " 'ौ',\n",
              " '्',\n",
              " '।',\n",
              " '०',\n",
              " '१',\n",
              " '२',\n",
              " '४',\n",
              " '५',\n",
              " '६',\n",
              " '७',\n",
              " '८',\n",
              " '९',\n",
              " '\\u200d'}"
            ]
          },
          "metadata": {
            "tags": []
          },
          "execution_count": 12
        }
      ]
    },
    {
      "cell_type": "code",
      "metadata": {
        "colab": {
          "base_uri": "https://localhost:8080/"
        },
        "id": "I9oNv4hKYtnO",
        "outputId": "fab3d63c-8145-4f58-a6b2-c224657bb5af"
      },
      "source": [
        "len(target_characters)"
      ],
      "execution_count": 13,
      "outputs": [
        {
          "output_type": "execute_result",
          "data": {
            "text/plain": [
              "88"
            ]
          },
          "metadata": {
            "tags": []
          },
          "execution_count": 13
        }
      ]
    },
    {
      "cell_type": "code",
      "metadata": {
        "id": "p8aeeuGpY5S4"
      },
      "source": [
        "input_characters = sorted(list(input_characters))\n",
        "target_characters = sorted(list(target_characters))\n",
        "num_encoder_tokens = len(input_characters)\n",
        "num_decoder_tokens = len(target_characters)\n",
        "max_encoder_seq_length = max([len(txt) for txt in input_texts])\n",
        "max_decoder_seq_length = max([len(txt) for txt in target_texts])"
      ],
      "execution_count": 14,
      "outputs": []
    },
    {
      "cell_type": "code",
      "metadata": {
        "colab": {
          "base_uri": "https://localhost:8080/"
        },
        "id": "Q_1umhXTZCPG",
        "outputId": "d3a4f628-c688-47d3-ba2d-fdff1651b336"
      },
      "source": [
        "print(\"Number of samples:\", len(input_texts))\n",
        "print(\"Number of unique input tokens:\", num_encoder_tokens)\n",
        "print(\"Number of unique output tokens:\", num_decoder_tokens)\n",
        "print(\"Max sequence length for inputs:\", max_encoder_seq_length)\n",
        "print(\"Max sequence length for outputs:\", max_decoder_seq_length)\n"
      ],
      "execution_count": 15,
      "outputs": [
        {
          "output_type": "stream",
          "text": [
            "Number of samples: 2915\n",
            "Number of unique input tokens: 70\n",
            "Number of unique output tokens: 88\n",
            "Max sequence length for inputs: 107\n",
            "Max sequence length for outputs: 123\n"
          ],
          "name": "stdout"
        }
      ]
    },
    {
      "cell_type": "code",
      "metadata": {
        "id": "42jpoi1hZGVc"
      },
      "source": [
        "input_token_index = dict([(char, i) for i, char in enumerate(input_characters)])\n",
        "target_token_index = dict([(char, i) for i, char in enumerate(target_characters)])"
      ],
      "execution_count": 16,
      "outputs": []
    },
    {
      "cell_type": "code",
      "metadata": {
        "id": "hYB3n9hEZMYs"
      },
      "source": [
        "encoder_input_data = np.zeros(\n",
        "    (len(input_texts), max_encoder_seq_length, num_encoder_tokens), dtype=\"float32\"\n",
        ")\n",
        "decoder_input_data = np.zeros(\n",
        "    (len(input_texts), max_decoder_seq_length, num_decoder_tokens), dtype=\"float32\"\n",
        ")\n",
        "decoder_target_data = np.zeros(\n",
        "    (len(input_texts), max_decoder_seq_length, num_decoder_tokens), dtype=\"float32\"\n",
        ")"
      ],
      "execution_count": 18,
      "outputs": []
    },
    {
      "cell_type": "markdown",
      "metadata": {
        "id": "p-Olh2ooaCa8"
      },
      "source": [
        "Input Format -  (len_of_samples,max_seq_length,which_char_position)"
      ]
    },
    {
      "cell_type": "code",
      "metadata": {
        "id": "ex9foRiKZ4Ut"
      },
      "source": [
        "for i, (input_text, target_text) in enumerate(zip(input_texts, target_texts)):\n",
        "    for t, char in enumerate(input_text):\n",
        "        encoder_input_data[i, t, input_token_index[char]] = 1.0\n",
        "    encoder_input_data[i, t + 1 :, input_token_index[\" \"]] = 1.0\n",
        "    for t, char in enumerate(target_text):\n",
        "        # decoder_target_data is ahead of decoder_input_data by one timestep\n",
        "        decoder_input_data[i, t, target_token_index[char]] = 1.0\n",
        "        if t > 0:\n",
        "            # decoder_target_data will be ahead by one timestep\n",
        "            # and will not include the start character.\n",
        "            decoder_target_data[i, t - 1, target_token_index[char]] = 1.0\n",
        "    decoder_input_data[i, t + 1 :, target_token_index[\" \"]] = 1.0\n",
        "    decoder_target_data[i, t:, target_token_index[\" \"]] = 1.0"
      ],
      "execution_count": 19,
      "outputs": []
    },
    {
      "cell_type": "markdown",
      "metadata": {
        "id": "dNfz5wsraoWy"
      },
      "source": [
        "##Model"
      ]
    },
    {
      "cell_type": "code",
      "metadata": {
        "id": "Es4R_0CUapM5"
      },
      "source": [
        "# Define an input sequence and process it.\n",
        "encoder_inputs = keras.Input(shape=(None, num_encoder_tokens))\n",
        "encoder = keras.layers.LSTM(latent_dim, return_state=True)\n",
        "encoder_outputs, state_h, state_c = encoder(encoder_inputs)\n",
        "\n",
        "# We discard `encoder_outputs` and only keep the states.\n",
        "encoder_states = [state_h, state_c]\n",
        "\n",
        "# Set up the decoder, using `encoder_states` as initial state.\n",
        "decoder_inputs = keras.Input(shape=(None, num_decoder_tokens))\n",
        "\n",
        "# We set up our decoder to return full output sequences,\n",
        "# and to return internal states as well. We don't use the\n",
        "# return states in the training model, but we will use them in inference.\n",
        "decoder_lstm = keras.layers.LSTM(latent_dim, return_sequences=True, return_state=True)\n",
        "decoder_outputs, _, _ = decoder_lstm(decoder_inputs, initial_state=encoder_states)\n",
        "decoder_dense = keras.layers.Dense(num_decoder_tokens, activation=\"softmax\")\n",
        "decoder_outputs = decoder_dense(decoder_outputs)\n",
        "\n",
        "# Define the model that will turn\n",
        "# `encoder_input_data` & `decoder_input_data` into `decoder_target_data`\n",
        "model = keras.Model([encoder_inputs, decoder_inputs], decoder_outputs)"
      ],
      "execution_count": 20,
      "outputs": []
    },
    {
      "cell_type": "code",
      "metadata": {
        "colab": {
          "base_uri": "https://localhost:8080/"
        },
        "id": "lpy5dZjZblMI",
        "outputId": "f7eab0a4-befb-4fd6-a5db-f66486854cba"
      },
      "source": [
        "model.compile(\n",
        "    optimizer=\"rmsprop\", loss=\"categorical_crossentropy\", metrics=[\"accuracy\"]\n",
        ")\n",
        "model.fit(\n",
        "    [encoder_input_data, decoder_input_data],\n",
        "    decoder_target_data,\n",
        "    batch_size=batch_size,\n",
        "    epochs=epochs,\n",
        "    validation_split=0.2,\n",
        ")\n",
        "# Save model\n",
        "model.save(\"s2s\")"
      ],
      "execution_count": 21,
      "outputs": [
        {
          "output_type": "stream",
          "text": [
            "Epoch 1/100\n",
            "37/37 [==============================] - 47s 1s/step - loss: 1.7039 - accuracy: 0.7169 - val_loss: 1.4769 - val_accuracy: 0.6885\n",
            "Epoch 2/100\n",
            "37/37 [==============================] - 42s 1s/step - loss: 0.8647 - accuracy: 0.8089 - val_loss: 1.3695 - val_accuracy: 0.6906\n",
            "Epoch 3/100\n",
            "37/37 [==============================] - 42s 1s/step - loss: 0.8314 - accuracy: 0.8106 - val_loss: 1.3158 - val_accuracy: 0.6924\n",
            "Epoch 4/100\n",
            "37/37 [==============================] - 42s 1s/step - loss: 0.7713 - accuracy: 0.8136 - val_loss: 1.2996 - val_accuracy: 0.6922\n",
            "Epoch 5/100\n",
            "37/37 [==============================] - 42s 1s/step - loss: 0.7170 - accuracy: 0.8217 - val_loss: 1.1284 - val_accuracy: 0.7203\n",
            "Epoch 6/100\n",
            "37/37 [==============================] - 42s 1s/step - loss: 0.6806 - accuracy: 0.8362 - val_loss: 1.0768 - val_accuracy: 0.7224\n",
            "Epoch 7/100\n",
            "37/37 [==============================] - 42s 1s/step - loss: 0.6233 - accuracy: 0.8429 - val_loss: 1.0261 - val_accuracy: 0.7352\n",
            "Epoch 8/100\n",
            "37/37 [==============================] - 42s 1s/step - loss: 0.5993 - accuracy: 0.8474 - val_loss: 0.9941 - val_accuracy: 0.7391\n",
            "Epoch 9/100\n",
            "37/37 [==============================] - 42s 1s/step - loss: 0.5541 - accuracy: 0.8554 - val_loss: 0.9467 - val_accuracy: 0.7517\n",
            "Epoch 10/100\n",
            "37/37 [==============================] - 42s 1s/step - loss: 0.5399 - accuracy: 0.8579 - val_loss: 0.9253 - val_accuracy: 0.7582\n",
            "Epoch 11/100\n",
            "37/37 [==============================] - 42s 1s/step - loss: 0.5227 - accuracy: 0.8617 - val_loss: 0.9076 - val_accuracy: 0.7617\n",
            "Epoch 12/100\n",
            "37/37 [==============================] - 43s 1s/step - loss: 0.5031 - accuracy: 0.8678 - val_loss: 0.9050 - val_accuracy: 0.7623\n",
            "Epoch 13/100\n",
            "37/37 [==============================] - 42s 1s/step - loss: 0.4943 - accuracy: 0.8688 - val_loss: 0.8725 - val_accuracy: 0.7690\n",
            "Epoch 14/100\n",
            "37/37 [==============================] - 42s 1s/step - loss: 0.4870 - accuracy: 0.8704 - val_loss: 0.8736 - val_accuracy: 0.7684\n",
            "Epoch 15/100\n",
            "37/37 [==============================] - 42s 1s/step - loss: 0.4691 - accuracy: 0.8752 - val_loss: 0.8499 - val_accuracy: 0.7740\n",
            "Epoch 16/100\n",
            "37/37 [==============================] - 43s 1s/step - loss: 0.4681 - accuracy: 0.8752 - val_loss: 0.8403 - val_accuracy: 0.7741\n",
            "Epoch 17/100\n",
            "37/37 [==============================] - 43s 1s/step - loss: 0.4608 - accuracy: 0.8765 - val_loss: 0.8294 - val_accuracy: 0.7765\n",
            "Epoch 18/100\n",
            "37/37 [==============================] - 43s 1s/step - loss: 0.4494 - accuracy: 0.8778 - val_loss: 0.8237 - val_accuracy: 0.7781\n",
            "Epoch 19/100\n",
            "37/37 [==============================] - 42s 1s/step - loss: 0.4453 - accuracy: 0.8783 - val_loss: 0.8307 - val_accuracy: 0.7738\n",
            "Epoch 20/100\n",
            "37/37 [==============================] - 43s 1s/step - loss: 0.4404 - accuracy: 0.8793 - val_loss: 0.8087 - val_accuracy: 0.7804\n",
            "Epoch 21/100\n",
            "37/37 [==============================] - 42s 1s/step - loss: 0.4346 - accuracy: 0.8800 - val_loss: 0.8047 - val_accuracy: 0.7801\n",
            "Epoch 22/100\n",
            "37/37 [==============================] - 43s 1s/step - loss: 0.4275 - accuracy: 0.8818 - val_loss: 0.7882 - val_accuracy: 0.7826\n",
            "Epoch 23/100\n",
            "37/37 [==============================] - 43s 1s/step - loss: 0.4217 - accuracy: 0.8825 - val_loss: 0.7939 - val_accuracy: 0.7814\n",
            "Epoch 24/100\n",
            "37/37 [==============================] - 42s 1s/step - loss: 0.4137 - accuracy: 0.8856 - val_loss: 0.7881 - val_accuracy: 0.7847\n",
            "Epoch 25/100\n",
            "37/37 [==============================] - 43s 1s/step - loss: 0.4062 - accuracy: 0.8864 - val_loss: 0.7790 - val_accuracy: 0.7854\n",
            "Epoch 26/100\n",
            "37/37 [==============================] - 43s 1s/step - loss: 0.4017 - accuracy: 0.8873 - val_loss: 0.7847 - val_accuracy: 0.7867\n",
            "Epoch 27/100\n",
            "37/37 [==============================] - 43s 1s/step - loss: 0.4139 - accuracy: 0.8843 - val_loss: 0.7742 - val_accuracy: 0.7868\n",
            "Epoch 28/100\n",
            "37/37 [==============================] - 43s 1s/step - loss: 0.4029 - accuracy: 0.8871 - val_loss: 0.7634 - val_accuracy: 0.7902\n",
            "Epoch 29/100\n",
            "37/37 [==============================] - 42s 1s/step - loss: 0.3952 - accuracy: 0.8884 - val_loss: 0.7600 - val_accuracy: 0.7910\n",
            "Epoch 30/100\n",
            "37/37 [==============================] - 42s 1s/step - loss: 0.3902 - accuracy: 0.8903 - val_loss: 0.7613 - val_accuracy: 0.7908\n",
            "Epoch 31/100\n",
            "37/37 [==============================] - 42s 1s/step - loss: 0.3850 - accuracy: 0.8919 - val_loss: 0.7541 - val_accuracy: 0.7909\n",
            "Epoch 32/100\n",
            "37/37 [==============================] - 42s 1s/step - loss: 0.3818 - accuracy: 0.8923 - val_loss: 0.7651 - val_accuracy: 0.7912\n",
            "Epoch 33/100\n",
            "37/37 [==============================] - 42s 1s/step - loss: 0.3779 - accuracy: 0.8935 - val_loss: 0.7525 - val_accuracy: 0.7921\n",
            "Epoch 34/100\n",
            "37/37 [==============================] - 42s 1s/step - loss: 0.3756 - accuracy: 0.8943 - val_loss: 0.7640 - val_accuracy: 0.7913\n",
            "Epoch 35/100\n",
            "37/37 [==============================] - 42s 1s/step - loss: 0.3722 - accuracy: 0.8952 - val_loss: 0.7432 - val_accuracy: 0.7952\n",
            "Epoch 36/100\n",
            "37/37 [==============================] - 42s 1s/step - loss: 0.3617 - accuracy: 0.8975 - val_loss: 0.7527 - val_accuracy: 0.7934\n",
            "Epoch 37/100\n",
            "37/37 [==============================] - 43s 1s/step - loss: 0.3568 - accuracy: 0.8997 - val_loss: 0.7535 - val_accuracy: 0.7943\n",
            "Epoch 38/100\n",
            "37/37 [==============================] - 43s 1s/step - loss: 0.3537 - accuracy: 0.9000 - val_loss: 0.7526 - val_accuracy: 0.7945\n",
            "Epoch 39/100\n",
            "37/37 [==============================] - 43s 1s/step - loss: 0.3474 - accuracy: 0.9015 - val_loss: 0.7434 - val_accuracy: 0.7974\n",
            "Epoch 40/100\n",
            "37/37 [==============================] - 43s 1s/step - loss: 0.3446 - accuracy: 0.9028 - val_loss: 0.7604 - val_accuracy: 0.7932\n",
            "Epoch 41/100\n",
            "37/37 [==============================] - 43s 1s/step - loss: 0.3394 - accuracy: 0.9047 - val_loss: 0.7527 - val_accuracy: 0.7962\n",
            "Epoch 42/100\n",
            "37/37 [==============================] - 43s 1s/step - loss: 0.3339 - accuracy: 0.9058 - val_loss: 0.7584 - val_accuracy: 0.7943\n",
            "Epoch 43/100\n",
            "37/37 [==============================] - 43s 1s/step - loss: 0.3348 - accuracy: 0.9057 - val_loss: 0.7617 - val_accuracy: 0.7936\n",
            "Epoch 44/100\n",
            "37/37 [==============================] - 43s 1s/step - loss: 0.3215 - accuracy: 0.9095 - val_loss: 0.7567 - val_accuracy: 0.7958\n",
            "Epoch 45/100\n",
            "37/37 [==============================] - 43s 1s/step - loss: 0.3191 - accuracy: 0.9099 - val_loss: 0.7646 - val_accuracy: 0.7953\n",
            "Epoch 46/100\n",
            "37/37 [==============================] - 43s 1s/step - loss: 0.3167 - accuracy: 0.9110 - val_loss: 0.7582 - val_accuracy: 0.7963\n",
            "Epoch 47/100\n",
            "37/37 [==============================] - 42s 1s/step - loss: 0.3115 - accuracy: 0.9119 - val_loss: 0.7520 - val_accuracy: 0.7968\n",
            "Epoch 48/100\n",
            "37/37 [==============================] - 43s 1s/step - loss: 0.3072 - accuracy: 0.9132 - val_loss: 0.7617 - val_accuracy: 0.7970\n",
            "Epoch 49/100\n",
            "37/37 [==============================] - 42s 1s/step - loss: 0.3028 - accuracy: 0.9148 - val_loss: 0.7773 - val_accuracy: 0.7949\n",
            "Epoch 50/100\n",
            "37/37 [==============================] - 42s 1s/step - loss: 0.2994 - accuracy: 0.9153 - val_loss: 0.7886 - val_accuracy: 0.7931\n",
            "Epoch 51/100\n",
            "37/37 [==============================] - 43s 1s/step - loss: 0.2952 - accuracy: 0.9173 - val_loss: 0.7663 - val_accuracy: 0.7954\n",
            "Epoch 52/100\n",
            "37/37 [==============================] - 43s 1s/step - loss: 0.2905 - accuracy: 0.9187 - val_loss: 0.7997 - val_accuracy: 0.7915\n",
            "Epoch 53/100\n",
            "37/37 [==============================] - 42s 1s/step - loss: 0.2908 - accuracy: 0.9179 - val_loss: 0.7998 - val_accuracy: 0.7909\n",
            "Epoch 54/100\n",
            "37/37 [==============================] - 43s 1s/step - loss: 0.2815 - accuracy: 0.9210 - val_loss: 0.7918 - val_accuracy: 0.7921\n",
            "Epoch 55/100\n",
            "37/37 [==============================] - 42s 1s/step - loss: 0.2733 - accuracy: 0.9233 - val_loss: 0.7887 - val_accuracy: 0.7928\n",
            "Epoch 56/100\n",
            "37/37 [==============================] - 43s 1s/step - loss: 0.2735 - accuracy: 0.9235 - val_loss: 0.7992 - val_accuracy: 0.7915\n",
            "Epoch 57/100\n",
            "37/37 [==============================] - 43s 1s/step - loss: 0.2675 - accuracy: 0.9248 - val_loss: 0.8135 - val_accuracy: 0.7887\n",
            "Epoch 58/100\n",
            "37/37 [==============================] - 42s 1s/step - loss: 0.2676 - accuracy: 0.9246 - val_loss: 0.8103 - val_accuracy: 0.7906\n",
            "Epoch 59/100\n",
            "37/37 [==============================] - 43s 1s/step - loss: 0.2641 - accuracy: 0.9263 - val_loss: 0.8149 - val_accuracy: 0.7912\n",
            "Epoch 60/100\n",
            "37/37 [==============================] - 42s 1s/step - loss: 0.2589 - accuracy: 0.9272 - val_loss: 0.8321 - val_accuracy: 0.7889\n",
            "Epoch 61/100\n",
            "37/37 [==============================] - 42s 1s/step - loss: 0.2529 - accuracy: 0.9292 - val_loss: 0.8222 - val_accuracy: 0.7916\n",
            "Epoch 62/100\n",
            "37/37 [==============================] - 42s 1s/step - loss: 0.2494 - accuracy: 0.9307 - val_loss: 0.8395 - val_accuracy: 0.7879\n",
            "Epoch 63/100\n",
            "37/37 [==============================] - 42s 1s/step - loss: 0.2477 - accuracy: 0.9313 - val_loss: 0.8215 - val_accuracy: 0.7918\n",
            "Epoch 64/100\n",
            "37/37 [==============================] - 42s 1s/step - loss: 0.2426 - accuracy: 0.9322 - val_loss: 0.8484 - val_accuracy: 0.7882\n",
            "Epoch 65/100\n",
            "37/37 [==============================] - 42s 1s/step - loss: 0.2411 - accuracy: 0.9329 - val_loss: 0.8549 - val_accuracy: 0.7887\n",
            "Epoch 66/100\n",
            "37/37 [==============================] - 42s 1s/step - loss: 0.2335 - accuracy: 0.9356 - val_loss: 0.8636 - val_accuracy: 0.7893\n",
            "Epoch 67/100\n",
            "37/37 [==============================] - 42s 1s/step - loss: 0.2297 - accuracy: 0.9365 - val_loss: 0.8573 - val_accuracy: 0.7883\n",
            "Epoch 68/100\n",
            "37/37 [==============================] - 42s 1s/step - loss: 0.2281 - accuracy: 0.9368 - val_loss: 0.8810 - val_accuracy: 0.7870\n",
            "Epoch 69/100\n",
            "37/37 [==============================] - 42s 1s/step - loss: 0.2220 - accuracy: 0.9387 - val_loss: 0.8831 - val_accuracy: 0.7876\n",
            "Epoch 70/100\n",
            "37/37 [==============================] - 42s 1s/step - loss: 0.2205 - accuracy: 0.9391 - val_loss: 0.8928 - val_accuracy: 0.7859\n",
            "Epoch 71/100\n",
            "37/37 [==============================] - 42s 1s/step - loss: 0.2173 - accuracy: 0.9401 - val_loss: 0.8960 - val_accuracy: 0.7847\n",
            "Epoch 72/100\n",
            "37/37 [==============================] - 42s 1s/step - loss: 0.2148 - accuracy: 0.9407 - val_loss: 0.8990 - val_accuracy: 0.7867\n",
            "Epoch 73/100\n",
            "37/37 [==============================] - 42s 1s/step - loss: 0.2118 - accuracy: 0.9420 - val_loss: 0.9099 - val_accuracy: 0.7849\n",
            "Epoch 74/100\n",
            "37/37 [==============================] - 42s 1s/step - loss: 0.2055 - accuracy: 0.9434 - val_loss: 0.9197 - val_accuracy: 0.7859\n",
            "Epoch 75/100\n",
            "37/37 [==============================] - 42s 1s/step - loss: 0.2048 - accuracy: 0.9439 - val_loss: 0.9352 - val_accuracy: 0.7838\n",
            "Epoch 76/100\n",
            "37/37 [==============================] - 42s 1s/step - loss: 0.1998 - accuracy: 0.9452 - val_loss: 0.9143 - val_accuracy: 0.7848\n",
            "Epoch 77/100\n",
            "37/37 [==============================] - 42s 1s/step - loss: 0.1956 - accuracy: 0.9469 - val_loss: 0.9392 - val_accuracy: 0.7852\n",
            "Epoch 78/100\n",
            "37/37 [==============================] - 42s 1s/step - loss: 0.1921 - accuracy: 0.9478 - val_loss: 0.9250 - val_accuracy: 0.7853\n",
            "Epoch 79/100\n",
            "37/37 [==============================] - 43s 1s/step - loss: 0.1926 - accuracy: 0.9477 - val_loss: 0.9704 - val_accuracy: 0.7805\n",
            "Epoch 80/100\n",
            "37/37 [==============================] - 42s 1s/step - loss: 0.1891 - accuracy: 0.9482 - val_loss: 0.9675 - val_accuracy: 0.7825\n",
            "Epoch 81/100\n",
            "37/37 [==============================] - 42s 1s/step - loss: 0.1858 - accuracy: 0.9498 - val_loss: 0.9538 - val_accuracy: 0.7850\n",
            "Epoch 82/100\n",
            "37/37 [==============================] - 42s 1s/step - loss: 0.1845 - accuracy: 0.9504 - val_loss: 0.9627 - val_accuracy: 0.7835\n",
            "Epoch 83/100\n",
            "37/37 [==============================] - 42s 1s/step - loss: 0.1847 - accuracy: 0.9501 - val_loss: 0.9829 - val_accuracy: 0.7819\n",
            "Epoch 84/100\n",
            "37/37 [==============================] - 42s 1s/step - loss: 0.1789 - accuracy: 0.9515 - val_loss: 0.9872 - val_accuracy: 0.7824\n",
            "Epoch 85/100\n",
            "37/37 [==============================] - 42s 1s/step - loss: 0.1763 - accuracy: 0.9527 - val_loss: 0.9930 - val_accuracy: 0.7821\n",
            "Epoch 86/100\n",
            "37/37 [==============================] - 42s 1s/step - loss: 0.1714 - accuracy: 0.9540 - val_loss: 1.0018 - val_accuracy: 0.7820\n",
            "Epoch 87/100\n",
            "37/37 [==============================] - 43s 1s/step - loss: 0.1703 - accuracy: 0.9544 - val_loss: 1.0064 - val_accuracy: 0.7804\n",
            "Epoch 88/100\n",
            "37/37 [==============================] - 43s 1s/step - loss: 0.1687 - accuracy: 0.9546 - val_loss: 1.0126 - val_accuracy: 0.7811\n",
            "Epoch 89/100\n",
            "37/37 [==============================] - 43s 1s/step - loss: 0.1646 - accuracy: 0.9556 - val_loss: 1.0112 - val_accuracy: 0.7815\n",
            "Epoch 90/100\n",
            "37/37 [==============================] - 43s 1s/step - loss: 0.1635 - accuracy: 0.9564 - val_loss: 1.0311 - val_accuracy: 0.7808\n",
            "Epoch 91/100\n",
            "37/37 [==============================] - 43s 1s/step - loss: 0.1605 - accuracy: 0.9565 - val_loss: 1.0151 - val_accuracy: 0.7823\n",
            "Epoch 92/100\n",
            "37/37 [==============================] - 43s 1s/step - loss: 0.1606 - accuracy: 0.9570 - val_loss: 1.0306 - val_accuracy: 0.7800\n",
            "Epoch 93/100\n",
            "37/37 [==============================] - 43s 1s/step - loss: 0.1580 - accuracy: 0.9574 - val_loss: 1.0432 - val_accuracy: 0.7802\n",
            "Epoch 94/100\n",
            "37/37 [==============================] - 43s 1s/step - loss: 0.1558 - accuracy: 0.9574 - val_loss: 1.0608 - val_accuracy: 0.7789\n",
            "Epoch 95/100\n",
            "37/37 [==============================] - 43s 1s/step - loss: 0.1517 - accuracy: 0.9588 - val_loss: 1.0549 - val_accuracy: 0.7816\n",
            "Epoch 96/100\n",
            "37/37 [==============================] - 43s 1s/step - loss: 0.1502 - accuracy: 0.9595 - val_loss: 1.0714 - val_accuracy: 0.7794\n",
            "Epoch 97/100\n",
            "37/37 [==============================] - 43s 1s/step - loss: 0.1481 - accuracy: 0.9599 - val_loss: 1.0811 - val_accuracy: 0.7793\n",
            "Epoch 98/100\n",
            "37/37 [==============================] - 43s 1s/step - loss: 0.1460 - accuracy: 0.9612 - val_loss: 1.0863 - val_accuracy: 0.7788\n",
            "Epoch 99/100\n",
            "37/37 [==============================] - 42s 1s/step - loss: 0.1440 - accuracy: 0.9613 - val_loss: 1.0917 - val_accuracy: 0.7795\n",
            "Epoch 100/100\n",
            "37/37 [==============================] - 42s 1s/step - loss: 0.1413 - accuracy: 0.9614 - val_loss: 1.0925 - val_accuracy: 0.7812\n"
          ],
          "name": "stdout"
        },
        {
          "output_type": "stream",
          "text": [
            "WARNING:absl:Found untraced functions such as lstm_cell_layer_call_and_return_conditional_losses, lstm_cell_layer_call_fn, lstm_cell_1_layer_call_and_return_conditional_losses, lstm_cell_1_layer_call_fn, lstm_cell_layer_call_fn while saving (showing 5 of 10). These functions will not be directly callable after loading.\n",
            "WARNING:absl:Found untraced functions such as lstm_cell_layer_call_and_return_conditional_losses, lstm_cell_layer_call_fn, lstm_cell_1_layer_call_and_return_conditional_losses, lstm_cell_1_layer_call_fn, lstm_cell_layer_call_fn while saving (showing 5 of 10). These functions will not be directly callable after loading.\n"
          ],
          "name": "stderr"
        },
        {
          "output_type": "stream",
          "text": [
            "INFO:tensorflow:Assets written to: s2s/assets\n"
          ],
          "name": "stdout"
        },
        {
          "output_type": "stream",
          "text": [
            "INFO:tensorflow:Assets written to: s2s/assets\n"
          ],
          "name": "stderr"
        }
      ]
    },
    {
      "cell_type": "markdown",
      "metadata": {
        "id": "bfXzlmzbhLGX"
      },
      "source": [
        "##Translation - Sampling what are the sentences translated to "
      ]
    },
    {
      "cell_type": "code",
      "metadata": {
        "id": "wQGTCcNQbz5h"
      },
      "source": [
        "# Define sampling models\n",
        "# Restore the model and construct the encoder and decoder.\n",
        "model = keras.models.load_model(\"s2s\")\n",
        "\n",
        "encoder_inputs = model.input[0]  # input_1\n",
        "encoder_outputs, state_h_enc, state_c_enc = model.layers[2].output  # lstm_1\n",
        "encoder_states = [state_h_enc, state_c_enc]\n",
        "encoder_model = keras.Model(encoder_inputs, encoder_states)\n",
        "\n",
        "decoder_inputs = model.input[1]  # input_2\n",
        "decoder_state_input_h = keras.Input(shape=(latent_dim,), name=\"input_3\")\n",
        "decoder_state_input_c = keras.Input(shape=(latent_dim,), name=\"input_4\")\n",
        "decoder_states_inputs = [decoder_state_input_h, decoder_state_input_c]\n",
        "decoder_lstm = model.layers[3]\n",
        "decoder_outputs, state_h_dec, state_c_dec = decoder_lstm(\n",
        "    decoder_inputs, initial_state=decoder_states_inputs\n",
        ")\n",
        "decoder_states = [state_h_dec, state_c_dec]\n",
        "decoder_dense = model.layers[4]\n",
        "decoder_outputs = decoder_dense(decoder_outputs)\n",
        "decoder_model = keras.Model(\n",
        "    [decoder_inputs] + decoder_states_inputs, [decoder_outputs] + decoder_states\n",
        ")\n",
        "\n",
        "# Reverse-lookup token index to decode sequences back to\n",
        "# something readable.\n",
        "reverse_input_char_index = dict((i, char) for char, i in input_token_index.items())\n",
        "reverse_target_char_index = dict((i, char) for char, i in target_token_index.items())"
      ],
      "execution_count": null,
      "outputs": []
    },
    {
      "cell_type": "code",
      "metadata": {
        "id": "qmYJcrH_h12p"
      },
      "source": [
        "def decode_sequence(input_seq):\n",
        "    # Encode the input as state vectors.\n",
        "    states_value = encoder_model.predict(input_seq)\n",
        "\n",
        "    # Generate empty target sequence of length 1.\n",
        "    target_seq = np.zeros((1, 1, num_decoder_tokens))\n",
        "    # Populate the first character of target sequence with the start character.\n",
        "    target_seq[0, 0, target_token_index[\"\\t\"]] = 1.0\n",
        "\n",
        "    # Sampling loop for a batch of sequences\n",
        "    # (to simplify, here we assume a batch of size 1).\n",
        "    stop_condition = False\n",
        "    decoded_sentence = \"\"\n",
        "    while not stop_condition:\n",
        "        output_tokens, h, c = decoder_model.predict([target_seq] + states_value)\n",
        "\n",
        "        # Sample a token\n",
        "        sampled_token_index = np.argmax(output_tokens[0, -1, :])\n",
        "        sampled_char = reverse_target_char_index[sampled_token_index]\n",
        "        decoded_sentence += sampled_char\n",
        "\n",
        "        # Exit condition: either hit max length\n",
        "        # or find stop character.\n",
        "        if sampled_char == \"\\n\" or len(decoded_sentence) > max_decoder_seq_length:\n",
        "            stop_condition = True\n",
        "\n",
        "        # Update the target sequence (of length 1).\n",
        "        target_seq = np.zeros((1, 1, num_decoder_tokens))\n",
        "        target_seq[0, 0, sampled_token_index] = 1.0\n",
        "\n",
        "        # Update states\n",
        "        states_value = [h, c]\n",
        "    return decoded_sentence"
      ],
      "execution_count": null,
      "outputs": []
    },
    {
      "cell_type": "code",
      "metadata": {
        "id": "FuqTYIb4h4G_"
      },
      "source": [
        "for seq_index in range(20):\n",
        "    # Take one sequence (part of the training set)\n",
        "    # for trying out decoding.\n",
        "    input_seq = encoder_input_data[seq_index : seq_index + 1]\n",
        "    decoded_sentence = decode_sequence(input_seq)\n",
        "    print(\"-\")\n",
        "    print(\"Input sentence:\", input_texts[seq_index])\n",
        "    print(\"Decoded sentence:\", decoded_sentence)"
      ],
      "execution_count": null,
      "outputs": []
    }
  ]
}