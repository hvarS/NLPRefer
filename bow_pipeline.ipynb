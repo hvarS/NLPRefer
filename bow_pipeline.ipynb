{
  "nbformat": 4,
  "nbformat_minor": 0,
  "metadata": {
    "colab": {
      "name": "bow_pipeline.ipynb",
      "provenance": [],
      "authorship_tag": "ABX9TyOZcdvtkQNEa2U27qlL1k2J",
      "include_colab_link": true
    },
    "kernelspec": {
      "name": "python3",
      "display_name": "Python 3"
    },
    "language_info": {
      "name": "python"
    }
  },
  "cells": [
    {
      "cell_type": "markdown",
      "metadata": {
        "id": "view-in-github",
        "colab_type": "text"
      },
      "source": [
        "<a href=\"https://colab.research.google.com/github/hvarS/NLPRefer/blob/main/bow_pipeline.ipynb\" target=\"_parent\"><img src=\"https://colab.research.google.com/assets/colab-badge.svg\" alt=\"Open In Colab\"/></a>"
      ]
    },
    {
      "cell_type": "markdown",
      "metadata": {
        "id": "R9iXsrfCIZPN"
      },
      "source": [
        "###Imports and Data"
      ]
    },
    {
      "cell_type": "code",
      "metadata": {
        "colab": {
          "base_uri": "https://localhost:8080/"
        },
        "id": "R-ItnnthIemj",
        "outputId": "9e6d66e6-8981-4f6c-9be3-aebd25b83473"
      },
      "source": [
        "import nltk\n",
        "import numpy as np\n",
        "#Tokenizer Download\n",
        "nltk.download('punkt')\n",
        "#Stopwords Download\n",
        "nltk.download(\"stopwords\")\n",
        "nltk.download('wordnet')"
      ],
      "execution_count": 19,
      "outputs": [
        {
          "output_type": "stream",
          "text": [
            "[nltk_data] Downloading package punkt to /root/nltk_data...\n",
            "[nltk_data]   Package punkt is already up-to-date!\n",
            "[nltk_data] Downloading package stopwords to /root/nltk_data...\n",
            "[nltk_data]   Package stopwords is already up-to-date!\n",
            "[nltk_data] Downloading package wordnet to /root/nltk_data...\n",
            "[nltk_data]   Package wordnet is already up-to-date!\n"
          ],
          "name": "stdout"
        },
        {
          "output_type": "execute_result",
          "data": {
            "text/plain": [
              "True"
            ]
          },
          "metadata": {
            "tags": []
          },
          "execution_count": 19
        }
      ]
    },
    {
      "cell_type": "code",
      "metadata": {
        "id": "xZNGAY-SIQNX"
      },
      "source": [
        "paragraph =  \"Fans, for the past two weeks you have been reading about the bad break I got. Yet today I consider myself the luckiest man on the face of this earth. I have been in ballparks for seventeen years and have never received anything but kindness and encouragement from you fans.Look at these grand men. Which of you wouldn't consider it the highlight of his career just to associate with them for even one day? Sure, I'm lucky. Who wouldn't consider it an honor to have known Jacob Ruppert? Also, the builder of baseball's greatest empire, Ed Barrow? To have spent six years with that wonderful little fellow, Miller Huggins? Then to have spent the next nine years with that outstanding leader, that smart student of psychology, the best manager in baseball today, Joe McCarthy? Sure, I'm lucky.When the New York Giants, a team you would give your right arm to beat, and vice versa, sends you a gift - that's something. When everybody down to the groundskeepers and those boys in white coats remember you with trophies - that's something. When you have a wonderful mother-in-law who takes sides with you in squabbles with her own daughter - that's something. When you have a father and a mother who work all their lives so you can have an education and build your body - it's a blessing. When you have a wife who has been a tower of strength and shown more courage than you dreamed existed - that's the finest I know.\""
      ],
      "execution_count": 20,
      "outputs": []
    },
    {
      "cell_type": "markdown",
      "metadata": {
        "id": "xvFRpcuwIjR8"
      },
      "source": [
        "###Preprocessing"
      ]
    },
    {
      "cell_type": "code",
      "metadata": {
        "id": "VbK2pNmlI98w"
      },
      "source": [
        "import re\n",
        "from nltk.corpus import stopwords\n",
        "from nltk.stem.porter import PorterStemmer\n",
        "from nltk.stem import WordNetLemmatizer"
      ],
      "execution_count": 21,
      "outputs": []
    },
    {
      "cell_type": "code",
      "metadata": {
        "id": "SkjsyKYlIlLl"
      },
      "source": [
        "# Cleaning the texts\n",
        "\n",
        "#Using Stemming \n",
        "ps = PorterStemmer()\n",
        "\n",
        "sentences = nltk.sent_tokenize(paragraph)\n",
        "corpus_stemmed = []\n",
        "for i in range(len(sentences)):\n",
        "    review = re.sub('[^a-zA-Z]', ' ', sentences[i])\n",
        "    review = review.lower()\n",
        "    review = review.split()\n",
        "    review = [ps.stem(word) for word in review if not word in set(stopwords.words('english'))]\n",
        "    review = ' '.join(review)\n",
        "    corpus_stemmed.append(review)"
      ],
      "execution_count": 22,
      "outputs": []
    },
    {
      "cell_type": "code",
      "metadata": {
        "colab": {
          "base_uri": "https://localhost:8080/"
        },
        "id": "Gzq6SN_bJd5N",
        "outputId": "2fdf05cf-104b-452f-f121-bac8b7f6913f"
      },
      "source": [
        "sentences"
      ],
      "execution_count": 23,
      "outputs": [
        {
          "output_type": "execute_result",
          "data": {
            "text/plain": [
              "['Fans, for the past two weeks you have been reading about the bad break I got.',\n",
              " 'Yet today I consider myself the luckiest man on the face of this earth.',\n",
              " 'I have been in ballparks for seventeen years and have never received anything but kindness and encouragement from you fans.Look at these grand men.',\n",
              " \"Which of you wouldn't consider it the highlight of his career just to associate with them for even one day?\",\n",
              " \"Sure, I'm lucky.\",\n",
              " \"Who wouldn't consider it an honor to have known Jacob Ruppert?\",\n",
              " \"Also, the builder of baseball's greatest empire, Ed Barrow?\",\n",
              " 'To have spent six years with that wonderful little fellow, Miller Huggins?',\n",
              " 'Then to have spent the next nine years with that outstanding leader, that smart student of psychology, the best manager in baseball today, Joe McCarthy?',\n",
              " \"Sure, I'm lucky.When the New York Giants, a team you would give your right arm to beat, and vice versa, sends you a gift - that's something.\",\n",
              " \"When everybody down to the groundskeepers and those boys in white coats remember you with trophies - that's something.\",\n",
              " \"When you have a wonderful mother-in-law who takes sides with you in squabbles with her own daughter - that's something.\",\n",
              " \"When you have a father and a mother who work all their lives so you can have an education and build your body - it's a blessing.\",\n",
              " \"When you have a wife who has been a tower of strength and shown more courage than you dreamed existed - that's the finest I know.\"]"
            ]
          },
          "metadata": {
            "tags": []
          },
          "execution_count": 23
        }
      ]
    },
    {
      "cell_type": "code",
      "metadata": {
        "colab": {
          "base_uri": "https://localhost:8080/"
        },
        "id": "JPmVBdQhJcYM",
        "outputId": "ce5a2775-8d4b-4ca4-8735-9be0df0853a0"
      },
      "source": [
        "corpus_stemmed"
      ],
      "execution_count": 24,
      "outputs": [
        {
          "output_type": "execute_result",
          "data": {
            "text/plain": [
              "['fan past two week read bad break got',\n",
              " 'yet today consid luckiest man face earth',\n",
              " 'ballpark seventeen year never receiv anyth kind encourag fan look grand men',\n",
              " 'consid highlight career associ even one day',\n",
              " 'sure lucki',\n",
              " 'consid honor known jacob ruppert',\n",
              " 'also builder basebal greatest empir ed barrow',\n",
              " 'spent six year wonder littl fellow miller huggin',\n",
              " 'spent next nine year outstand leader smart student psycholog best manag basebal today joe mccarthi',\n",
              " 'sure lucki new york giant team would give right arm beat vice versa send gift someth',\n",
              " 'everybodi groundskeep boy white coat rememb trophi someth',\n",
              " 'wonder mother law take side squabbl daughter someth',\n",
              " 'father mother work live educ build bodi bless',\n",
              " 'wife tower strength shown courag dream exist finest know']"
            ]
          },
          "metadata": {
            "tags": []
          },
          "execution_count": 24
        }
      ]
    },
    {
      "cell_type": "code",
      "metadata": {
        "id": "39wdpzJ2I7J_"
      },
      "source": [
        "wordnet=WordNetLemmatizer()\n",
        "corpus_lemmatized = []\n",
        "for i in range(len(sentences)):\n",
        "    review = re.sub('[^a-zA-Z]', ' ', sentences[i])\n",
        "    review = review.lower()\n",
        "    review = review.split()\n",
        "    review = [wordnet.lemmatize(word) for word in review if not word in set(stopwords.words('english'))]\n",
        "    review = ' '.join(review)\n",
        "    corpus_lemmatized.append(review)"
      ],
      "execution_count": 25,
      "outputs": []
    },
    {
      "cell_type": "code",
      "metadata": {
        "id": "ETKPeqBvJztL",
        "colab": {
          "base_uri": "https://localhost:8080/"
        },
        "outputId": "8ff6b8e6-e596-4dcc-dbd4-621ec3fd8a18"
      },
      "source": [
        "sentences"
      ],
      "execution_count": 26,
      "outputs": [
        {
          "output_type": "execute_result",
          "data": {
            "text/plain": [
              "['Fans, for the past two weeks you have been reading about the bad break I got.',\n",
              " 'Yet today I consider myself the luckiest man on the face of this earth.',\n",
              " 'I have been in ballparks for seventeen years and have never received anything but kindness and encouragement from you fans.Look at these grand men.',\n",
              " \"Which of you wouldn't consider it the highlight of his career just to associate with them for even one day?\",\n",
              " \"Sure, I'm lucky.\",\n",
              " \"Who wouldn't consider it an honor to have known Jacob Ruppert?\",\n",
              " \"Also, the builder of baseball's greatest empire, Ed Barrow?\",\n",
              " 'To have spent six years with that wonderful little fellow, Miller Huggins?',\n",
              " 'Then to have spent the next nine years with that outstanding leader, that smart student of psychology, the best manager in baseball today, Joe McCarthy?',\n",
              " \"Sure, I'm lucky.When the New York Giants, a team you would give your right arm to beat, and vice versa, sends you a gift - that's something.\",\n",
              " \"When everybody down to the groundskeepers and those boys in white coats remember you with trophies - that's something.\",\n",
              " \"When you have a wonderful mother-in-law who takes sides with you in squabbles with her own daughter - that's something.\",\n",
              " \"When you have a father and a mother who work all their lives so you can have an education and build your body - it's a blessing.\",\n",
              " \"When you have a wife who has been a tower of strength and shown more courage than you dreamed existed - that's the finest I know.\"]"
            ]
          },
          "metadata": {
            "tags": []
          },
          "execution_count": 26
        }
      ]
    },
    {
      "cell_type": "code",
      "metadata": {
        "id": "eRe7q5EqJ5FC",
        "colab": {
          "base_uri": "https://localhost:8080/"
        },
        "outputId": "7fb653b2-3d1c-4ced-a8f7-9c4666ca664b"
      },
      "source": [
        "corpus_lemmatized"
      ],
      "execution_count": 27,
      "outputs": [
        {
          "output_type": "execute_result",
          "data": {
            "text/plain": [
              "['fan past two week reading bad break got',\n",
              " 'yet today consider luckiest man face earth',\n",
              " 'ballpark seventeen year never received anything kindness encouragement fan look grand men',\n",
              " 'consider highlight career associate even one day',\n",
              " 'sure lucky',\n",
              " 'consider honor known jacob ruppert',\n",
              " 'also builder baseball greatest empire ed barrow',\n",
              " 'spent six year wonderful little fellow miller huggins',\n",
              " 'spent next nine year outstanding leader smart student psychology best manager baseball today joe mccarthy',\n",
              " 'sure lucky new york giant team would give right arm beat vice versa sends gift something',\n",
              " 'everybody groundskeeper boy white coat remember trophy something',\n",
              " 'wonderful mother law take side squabble daughter something',\n",
              " 'father mother work life education build body blessing',\n",
              " 'wife tower strength shown courage dreamed existed finest know']"
            ]
          },
          "metadata": {
            "tags": []
          },
          "execution_count": 27
        }
      ]
    },
    {
      "cell_type": "markdown",
      "metadata": {
        "id": "WZwGTYg0WdX7"
      },
      "source": [
        "###BOW"
      ]
    },
    {
      "cell_type": "code",
      "metadata": {
        "id": "ttQy425HWew5"
      },
      "source": [
        "from sklearn.feature_extraction.text import CountVectorizer"
      ],
      "execution_count": 28,
      "outputs": []
    },
    {
      "cell_type": "code",
      "metadata": {
        "id": "-0EfviWbWoN_"
      },
      "source": [
        "cv = CountVectorizer()"
      ],
      "execution_count": 29,
      "outputs": []
    },
    {
      "cell_type": "code",
      "metadata": {
        "id": "2dgvDr8SWp2b"
      },
      "source": [
        "x = cv.fit_transform(corpus_lemmatized).toarray()"
      ],
      "execution_count": 30,
      "outputs": []
    },
    {
      "cell_type": "code",
      "metadata": {
        "colab": {
          "base_uri": "https://localhost:8080/"
        },
        "id": "DakuT_zTWveY",
        "outputId": "798eaa0c-ffc0-46e1-e1b6-21ebe3fc01b3"
      },
      "source": [
        "x.shape"
      ],
      "execution_count": 32,
      "outputs": [
        {
          "output_type": "execute_result",
          "data": {
            "text/plain": [
              "(14, 106)"
            ]
          },
          "metadata": {
            "tags": []
          },
          "execution_count": 32
        }
      ]
    },
    {
      "cell_type": "code",
      "metadata": {
        "id": "xAkbhjIxW0KP"
      },
      "source": [
        "##14 sentences , vocabulary size = 106"
      ],
      "execution_count": 33,
      "outputs": []
    },
    {
      "cell_type": "code",
      "metadata": {
        "id": "NrfDe9iiWwfH"
      },
      "source": [
        ""
      ],
      "execution_count": null,
      "outputs": []
    }
  ]
}