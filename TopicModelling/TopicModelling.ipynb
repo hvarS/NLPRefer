{
  "nbformat": 4,
  "nbformat_minor": 0,
  "metadata": {
    "colab": {
      "name": "TopicModelling.ipynb",
      "provenance": []
    },
    "kernelspec": {
      "name": "python3",
      "display_name": "Python 3"
    },
    "language_info": {
      "name": "python"
    }
  },
  "cells": [
    {
      "cell_type": "code",
      "metadata": {
        "id": "jfstmhoPM-_x"
      },
      "source": [
        "import pandas as pd\n",
        "import numpy as np\n"
      ],
      "execution_count": 51,
      "outputs": []
    },
    {
      "cell_type": "code",
      "metadata": {
        "colab": {
          "base_uri": "https://localhost:8080/"
        },
        "id": "7aQjcjwVSv2I",
        "outputId": "52b48a95-c5e8-47ef-c454-3b9a1e6b7a77"
      },
      "source": [
        "from google.colab import drive\n",
        "\n",
        "drive.mount('/content/gdrive')"
      ],
      "execution_count": 52,
      "outputs": [
        {
          "output_type": "stream",
          "text": [
            "Drive already mounted at /content/gdrive; to attempt to forcibly remount, call drive.mount(\"/content/gdrive\", force_remount=True).\n"
          ],
          "name": "stdout"
        }
      ]
    },
    {
      "cell_type": "code",
      "metadata": {
        "id": "EgNYm12OQzxu"
      },
      "source": [
        "def setup_dataset(text):\n",
        "  import shutil\n",
        "  import os\n",
        "  %cd /content/gdrive/My Drive/Kaggle/\n",
        "  strings = text.split(' ')[-1]\n",
        "  folder = strings.split('/')[1]\n",
        "  os.environ['KAGGLE_CONFIG_DIR'] = \"/content/gdrive/My Drive/Kaggle/\"+folder\n",
        "  print(strings)\n",
        "  print(folder)\n",
        "  !mkdir $folder\n",
        "  shutil.copy2(\"kaggle.json\",\"./\"+folder+\"/kaggle.json\")\n",
        "  %cd $folder\n",
        "  !kaggle datasets download -d $strings"
      ],
      "execution_count": null,
      "outputs": []
    },
    {
      "cell_type": "code",
      "metadata": {
        "colab": {
          "base_uri": "https://localhost:8080/"
        },
        "id": "fB_yGUA0Qxk9",
        "outputId": "3bd9c099-c26f-4dcd-d746-1059d0b136d8"
      },
      "source": [
        "setup_dataset(\"kaggle datasets download -d luizfmatos/reddit-english-depression-related-submissions\")"
      ],
      "execution_count": null,
      "outputs": [
        {
          "output_type": "stream",
          "text": [
            "/content/gdrive/My Drive/Kaggle\n",
            "luizfmatos/reddit-english-depression-related-submissions\n",
            "reddit-english-depression-related-submissions\n",
            "mkdir: cannot create directory ‘reddit-english-depression-related-submissions’: File exists\n",
            "/content/gdrive/My Drive/Kaggle/reddit-english-depression-related-submissions\n",
            "Downloading reddit-english-depression-related-submissions.zip to /content/gdrive/My Drive/Kaggle/reddit-english-depression-related-submissions\n",
            " 51% 9.00M/17.7M [00:00<00:00, 90.5MB/s]\n",
            "100% 17.7M/17.7M [00:00<00:00, 113MB/s] \n"
          ],
          "name": "stdout"
        }
      ]
    },
    {
      "cell_type": "code",
      "metadata": {
        "colab": {
          "base_uri": "https://localhost:8080/"
        },
        "id": "Jz0iJJaOST5s",
        "outputId": "d8af5678-25da-45b1-e91e-cbe3953f3c68"
      },
      "source": [
        "%ls"
      ],
      "execution_count": null,
      "outputs": [
        {
          "output_type": "stream",
          "text": [
            "kaggle.json  reddit-english-depression-related-submissions.zip\n"
          ],
          "name": "stdout"
        }
      ]
    },
    {
      "cell_type": "code",
      "metadata": {
        "colab": {
          "base_uri": "https://localhost:8080/"
        },
        "id": "pN3AeznFVdNd",
        "outputId": "8a5e7f9d-b088-4474-8011-8c64260a84f5"
      },
      "source": [
        "!unzip reddit-english-depression-related-submissions.zip"
      ],
      "execution_count": null,
      "outputs": [
        {
          "output_type": "stream",
          "text": [
            "Archive:  reddit-english-depression-related-submissions.zip\n",
            "  inflating: _reddit-posts-gatherer-en.submissions_subset.json  \n"
          ],
          "name": "stdout"
        }
      ]
    },
    {
      "cell_type": "code",
      "metadata": {
        "id": "lgAgK7TKViPH"
      },
      "source": [
        "df = pd.read_json(\"_reddit-posts-gatherer-en.submissions_subset.json\")"
      ],
      "execution_count": null,
      "outputs": []
    },
    {
      "cell_type": "code",
      "metadata": {
        "id": "RlUehv7FVxoS"
      },
      "source": [
        "real_df = df.body"
      ],
      "execution_count": null,
      "outputs": []
    },
    {
      "cell_type": "code",
      "metadata": {
        "colab": {
          "base_uri": "https://localhost:8080/"
        },
        "id": "xRuQTbysVzhz",
        "outputId": "318d1da1-d450-46df-c266-a4c94c4e4c28"
      },
      "source": [
        "real_df"
      ],
      "execution_count": null,
      "outputs": [
        {
          "output_type": "execute_result",
          "data": {
            "text/plain": [
              "0        It came in the mail a few weeks ago, so I put ...\n",
              "1        It's one of those nights where I want to kill ...\n",
              "2        I have been suffering with depression for 3 ye...\n",
              "3        How do you all deal with feelings of isolation...\n",
              "4        There are people out there enjoying life, are ...\n",
              "                               ...                        \n",
              "32160    Fuck throwaways.\\n\\nThis is a story I've only ...\n",
              "32161    Even when I should be happy Im not. I feel so ...\n",
              "32162    January 8th, 2014. The time is approximately 1...\n",
              "32163    Spending the New Year alone (of course), I dec...\n",
              "32164    http://www.mayoclinic.org/diseases-conditions/...\n",
              "Name: body, Length: 32165, dtype: object"
            ]
          },
          "metadata": {
            "tags": []
          },
          "execution_count": 38
        }
      ]
    },
    {
      "cell_type": "code",
      "metadata": {
        "id": "B49Po7hNW9L9"
      },
      "source": [
        "df = real_df"
      ],
      "execution_count": null,
      "outputs": []
    },
    {
      "cell_type": "code",
      "metadata": {
        "colab": {
          "base_uri": "https://localhost:8080/"
        },
        "id": "dMzZhgTEXK9A",
        "outputId": "cf35a1d6-1d27-4601-b7f4-bdc1f5cdb72d"
      },
      "source": [
        "df.shape"
      ],
      "execution_count": null,
      "outputs": [
        {
          "output_type": "execute_result",
          "data": {
            "text/plain": [
              "(32165,)"
            ]
          },
          "metadata": {
            "tags": []
          },
          "execution_count": 41
        }
      ]
    },
    {
      "cell_type": "code",
      "metadata": {
        "colab": {
          "base_uri": "https://localhost:8080/"
        },
        "id": "rT3xAoE2YCrb",
        "outputId": "f2bea2ef-d392-44a2-8fa9-a5324d553a7a"
      },
      "source": [
        "len(df)"
      ],
      "execution_count": null,
      "outputs": [
        {
          "output_type": "execute_result",
          "data": {
            "text/plain": [
              "32165"
            ]
          },
          "metadata": {
            "tags": []
          },
          "execution_count": 46
        }
      ]
    },
    {
      "cell_type": "markdown",
      "metadata": {
        "id": "k28KUxiXXycD"
      },
      "source": [
        "### Convert Emojis to Text"
      ]
    },
    {
      "cell_type": "code",
      "metadata": {
        "colab": {
          "base_uri": "https://localhost:8080/"
        },
        "id": "f7Kd9ajEX1zk",
        "outputId": "90535b4a-ebc2-4a4f-b8f3-eb60f52ab33d"
      },
      "source": [
        "!pip install emot"
      ],
      "execution_count": null,
      "outputs": [
        {
          "output_type": "stream",
          "text": [
            "Collecting emot\n",
            "  Downloading https://files.pythonhosted.org/packages/49/07/20001ade19873de611b7b66a4d5e5aabbf190d65abea337d5deeaa2bc3de/emot-2.1-py3-none-any.whl\n",
            "Installing collected packages: emot\n",
            "Successfully installed emot-2.1\n"
          ],
          "name": "stdout"
        }
      ]
    },
    {
      "cell_type": "code",
      "metadata": {
        "colab": {
          "base_uri": "https://localhost:8080/"
        },
        "id": "f5QNSZLgX2zW",
        "outputId": "e4aabda0-1b34-4020-ca4a-950f315c4a80"
      },
      "source": [
        "!pip install emoji"
      ],
      "execution_count": null,
      "outputs": [
        {
          "output_type": "stream",
          "text": [
            "Collecting emoji\n",
            "\u001b[?25l  Downloading https://files.pythonhosted.org/packages/24/fa/b3368f41b95a286f8d300e323449ab4e86b85334c2e0b477e94422b8ed0f/emoji-1.2.0-py3-none-any.whl (131kB)\n",
            "\r\u001b[K     |██▌                             | 10kB 12.5MB/s eta 0:00:01\r\u001b[K     |█████                           | 20kB 17.5MB/s eta 0:00:01\r\u001b[K     |███████▌                        | 30kB 9.9MB/s eta 0:00:01\r\u001b[K     |██████████                      | 40kB 8.6MB/s eta 0:00:01\r\u001b[K     |████████████▌                   | 51kB 5.4MB/s eta 0:00:01\r\u001b[K     |███████████████                 | 61kB 5.9MB/s eta 0:00:01\r\u001b[K     |█████████████████▌              | 71kB 5.7MB/s eta 0:00:01\r\u001b[K     |████████████████████            | 81kB 6.3MB/s eta 0:00:01\r\u001b[K     |██████████████████████▌         | 92kB 6.3MB/s eta 0:00:01\r\u001b[K     |█████████████████████████       | 102kB 6.6MB/s eta 0:00:01\r\u001b[K     |███████████████████████████▌    | 112kB 6.6MB/s eta 0:00:01\r\u001b[K     |██████████████████████████████  | 122kB 6.6MB/s eta 0:00:01\r\u001b[K     |████████████████████████████████| 133kB 6.6MB/s \n",
            "\u001b[?25hInstalling collected packages: emoji\n",
            "Successfully installed emoji-1.2.0\n"
          ],
          "name": "stdout"
        }
      ]
    },
    {
      "cell_type": "code",
      "metadata": {
        "id": "fsE7tdx9Yepo"
      },
      "source": [
        "import emoji"
      ],
      "execution_count": null,
      "outputs": []
    },
    {
      "cell_type": "code",
      "metadata": {
        "id": "Ke1js4LLX718"
      },
      "source": [
        "for i in range(len(df)):\n",
        "  text = df[i]\n",
        "  new_text = emoji.demojize(text)\n",
        "  df[i] = new_text"
      ],
      "execution_count": null,
      "outputs": []
    },
    {
      "cell_type": "code",
      "metadata": {
        "colab": {
          "base_uri": "https://localhost:8080/",
          "height": 69
        },
        "id": "OJINRloeoNHv",
        "outputId": "78c43bca-9454-42a6-8275-aae0d1b72b8e"
      },
      "source": [
        "df[100]"
      ],
      "execution_count": 55,
      "outputs": [
        {
          "output_type": "execute_result",
          "data": {
            "application/vnd.google.colaboratory.intrinsic+json": {
              "type": "string"
            },
            "text/plain": [
              "'I reach out to try and talk to someone, I get a reply 6 hours later and it\\'s just \"lol\". Sometimes I don\\'t get replies at all, then I see them posting all day on social media or whatever...\\n\\nIs it just me? Am I so unbearably impossible to talk to that my friends can\\'t be bothered trying to hold a conversation with me? Am I that annoying and disgusting?\\n\\nI\\'m so tired of feeling this lonely ache in my chest because no one wants to talk to me'"
            ]
          },
          "metadata": {
            "tags": []
          },
          "execution_count": 55
        }
      ]
    },
    {
      "cell_type": "markdown",
      "metadata": {
        "id": "UzFpLUsAoKgc"
      },
      "source": [
        "###Converting words to vectors"
      ]
    },
    {
      "cell_type": "code",
      "metadata": {
        "id": "uuDg8yI8oMr4"
      },
      "source": [
        "from sklearn.feature_extraction.text import CountVectorizer"
      ],
      "execution_count": 56,
      "outputs": []
    },
    {
      "cell_type": "code",
      "metadata": {
        "id": "m6k3ogEpouix"
      },
      "source": [
        "cv = CountVectorizer(max_df=0.95,stop_words=\"english\",min_df=2)"
      ],
      "execution_count": 58,
      "outputs": []
    },
    {
      "cell_type": "code",
      "metadata": {
        "id": "nFZCKKLrov3_"
      },
      "source": [
        "df_fitt = cv.fit_transform(df)"
      ],
      "execution_count": 59,
      "outputs": []
    },
    {
      "cell_type": "code",
      "metadata": {
        "id": "c8DNQ3Wzplbg"
      },
      "source": [
        ""
      ],
      "execution_count": null,
      "outputs": []
    },
    {
      "cell_type": "markdown",
      "metadata": {
        "id": "oFeTW73qqV2u"
      },
      "source": [
        "###Latent Dirichlet Allocation (LDA)"
      ]
    },
    {
      "cell_type": "code",
      "metadata": {
        "id": "ZngaRj9jqZLK"
      },
      "source": [
        "from sklearn.decomposition import LatentDirichletAllocation"
      ],
      "execution_count": 63,
      "outputs": []
    },
    {
      "cell_type": "code",
      "metadata": {
        "id": "fP9-9T3Rqdof"
      },
      "source": [
        "lda = LatentDirichletAllocation(n_components=10,random_state=42)"
      ],
      "execution_count": 64,
      "outputs": []
    },
    {
      "cell_type": "code",
      "metadata": {
        "colab": {
          "base_uri": "https://localhost:8080/"
        },
        "id": "q6pFkzsWqm6O",
        "outputId": "29a0426c-2fc8-4eff-b277-cd86b5dfee20"
      },
      "source": [
        "lda.fit(df_fitt)"
      ],
      "execution_count": 65,
      "outputs": [
        {
          "output_type": "execute_result",
          "data": {
            "text/plain": [
              "LatentDirichletAllocation(batch_size=128, doc_topic_prior=None,\n",
              "                          evaluate_every=-1, learning_decay=0.7,\n",
              "                          learning_method='batch', learning_offset=10.0,\n",
              "                          max_doc_update_iter=100, max_iter=10,\n",
              "                          mean_change_tol=0.001, n_components=10, n_jobs=None,\n",
              "                          perp_tol=0.1, random_state=42, topic_word_prior=None,\n",
              "                          total_samples=1000000.0, verbose=0)"
            ]
          },
          "metadata": {
            "tags": []
          },
          "execution_count": 65
        }
      ]
    },
    {
      "cell_type": "markdown",
      "metadata": {
        "id": "2SKvimGcr7nz"
      },
      "source": [
        "###Exploring Topics Assigned by lda"
      ]
    },
    {
      "cell_type": "code",
      "metadata": {
        "colab": {
          "base_uri": "https://localhost:8080/"
        },
        "id": "BYVQgHHwr6Mm",
        "outputId": "84729b3e-ebc7-4606-bc10-701ca32af954"
      },
      "source": [
        "len(cv.get_feature_names())"
      ],
      "execution_count": 67,
      "outputs": [
        {
          "output_type": "execute_result",
          "data": {
            "text/plain": [
              "25700"
            ]
          },
          "metadata": {
            "tags": []
          },
          "execution_count": 67
        }
      ]
    },
    {
      "cell_type": "markdown",
      "metadata": {
        "id": "z-f4cEczsIuc"
      },
      "source": [
        "*Count Vectorizer gave us approx 25700 important words from the given dataset* "
      ]
    },
    {
      "cell_type": "code",
      "metadata": {
        "colab": {
          "base_uri": "https://localhost:8080/"
        },
        "id": "DU15doYqsBQS",
        "outputId": "505c1978-56ec-4b55-c478-78ae2440840d"
      },
      "source": [
        "len(lda.components_)"
      ],
      "execution_count": 71,
      "outputs": [
        {
          "output_type": "execute_result",
          "data": {
            "text/plain": [
              "10"
            ]
          },
          "metadata": {
            "tags": []
          },
          "execution_count": 71
        }
      ]
    },
    {
      "cell_type": "markdown",
      "metadata": {
        "id": "grBJf4BIsoe3"
      },
      "source": [
        "LDA Has assigned the 10 topics accordingly as requested"
      ]
    },
    {
      "cell_type": "code",
      "metadata": {
        "colab": {
          "base_uri": "https://localhost:8080/"
        },
        "id": "uY0JkPkpsedY",
        "outputId": "44856396-c2cb-4c20-a5e7-16ec9011eabb"
      },
      "source": [
        "print(lda.components_.shape)"
      ],
      "execution_count": 73,
      "outputs": [
        {
          "output_type": "stream",
          "text": [
            "(10, 25700)\n"
          ],
          "name": "stdout"
        }
      ]
    },
    {
      "cell_type": "code",
      "metadata": {
        "colab": {
          "base_uri": "https://localhost:8080/"
        },
        "id": "QDuFWWoSszUd",
        "outputId": "f1b102ff-0758-4cbd-d2e4-a64bf460c859"
      },
      "source": [
        "topic0 = lda.components_[0]\n",
        "print(topic0)"
      ],
      "execution_count": 85,
      "outputs": [
        {
          "output_type": "stream",
          "text": [
            "[0.42080936 3.71604014 0.10000505 ... 0.10006833 0.1        0.10000105]\n"
          ],
          "name": "stdout"
        }
      ]
    },
    {
      "cell_type": "code",
      "metadata": {
        "colab": {
          "base_uri": "https://localhost:8080/"
        },
        "id": "Ox7HJD6ftMB6",
        "outputId": "bda7fea7-85ac-4ae4-81db-accfc5302f1f"
      },
      "source": [
        "topic0.argsort()"
      ],
      "execution_count": 76,
      "outputs": [
        {
          "output_type": "execute_result",
          "data": {
            "text/plain": [
              "array([21718,  8011,  1874, ..., 13410,  6381, 16630])"
            ]
          },
          "metadata": {
            "tags": []
          },
          "execution_count": 76
        }
      ]
    },
    {
      "cell_type": "markdown",
      "metadata": {
        "id": "7cMBcQY0tbzR"
      },
      "source": [
        "*Each topic has been represented as probabilities of the features generated by count-vectorizer*"
      ]
    },
    {
      "cell_type": "code",
      "metadata": {
        "colab": {
          "base_uri": "https://localhost:8080/"
        },
        "id": "xW6MTZcNtNPI",
        "outputId": "6c3f3fec-b50b-4e64-b54b-996027d14725"
      },
      "source": [
        "topic0.argsort()[-10:]"
      ],
      "execution_count": 84,
      "outputs": [
        {
          "output_type": "execute_result",
          "data": {
            "text/plain": [
              "array([22933, 24542, 13730, 10975, 13449, 22931, 25433, 13410,  6381,\n",
              "       16630])"
            ]
          },
          "metadata": {
            "tags": []
          },
          "execution_count": 84
        }
      ]
    },
    {
      "cell_type": "markdown",
      "metadata": {
        "id": "g6rkz-sduMOM"
      },
      "source": [
        "\n",
        "\n",
        "```\n",
        "# The above word ids are the top 10 words that represent that topic\n",
        "```\n",
        "\n"
      ]
    },
    {
      "cell_type": "code",
      "metadata": {
        "colab": {
          "base_uri": "https://localhost:8080/"
        },
        "id": "FcELKUS9ts5N",
        "outputId": "615d802e-c182-464b-af30-573b57137d43"
      },
      "source": [
        "for item in topic0.argsort()[-10:]:\n",
        "  print(cv.get_feature_names()[item])"
      ],
      "execution_count": 87,
      "outputs": [
        {
          "output_type": "stream",
          "text": [
            "think\n",
            "ve\n",
            "love\n",
            "help\n",
            "like\n",
            "things\n",
            "world\n",
            "life\n",
            "depression\n",
            "people\n"
          ],
          "name": "stdout"
        }
      ]
    },
    {
      "cell_type": "code",
      "metadata": {
        "colab": {
          "base_uri": "https://localhost:8080/"
        },
        "id": "QVaMW4PYu-q5",
        "outputId": "5071e8cc-6c40-4c93-dda1-47af7afaecf1"
      },
      "source": [
        "for index,topic in enumerate(lda.components_):\n",
        "  print(\"Lets understand topic-{}\".format(index))\n",
        "  print(\"Top 5 words which represent this topic are :\")\n",
        "  print([cv.get_feature_names()[item] for item in topic.argsort()[-5:]])\n",
        "  print(\"---------------------------------------------------------------\")"
      ],
      "execution_count": 90,
      "outputs": [
        {
          "output_type": "stream",
          "text": [
            "Lets understand topic-0\n",
            "Top 5 words which represent this topic are :\n",
            "['things', 'world', 'life', 'depression', 'people']\n",
            "---------------------------------------------------------------\n",
            "Lets understand topic-1\n",
            "Top 5 words which represent this topic are :\n",
            "['time', 'life', 'work', 've', 'job']\n",
            "---------------------------------------------------------------\n",
            "Lets understand topic-2\n",
            "Top 5 words which represent this topic are :\n",
            "['doctor', 'medication', 'taking', 've', 'depression']\n",
            "---------------------------------------------------------------\n",
            "Lets understand topic-3\n",
            "Top 5 words which represent this topic are :\n",
            "['want', 'like', 'life', 'just', 'feel']\n",
            "---------------------------------------------------------------\n",
            "Lets understand topic-4\n",
            "Top 5 words which represent this topic are :\n",
            "['year', 'class', 'college', 'just', 'school']\n",
            "---------------------------------------------------------------\n",
            "Lets understand topic-5\n",
            "Top 5 words which represent this topic are :\n",
            "['like', 'bed', 'sleep', 'just', 'day']\n",
            "---------------------------------------------------------------\n",
            "Lets understand topic-6\n",
            "Top 5 words which represent this topic are :\n",
            "['know', 'feel', 'don', 'like', 'just']\n",
            "---------------------------------------------------------------\n",
            "Lets understand topic-7\n",
            "Top 5 words which represent this topic are :\n",
            "['like', 'want', 'don', 'just', 'life']\n",
            "---------------------------------------------------------------\n",
            "Lets understand topic-8\n",
            "Top 5 words which represent this topic are :\n",
            "['know', 'depression', 'don', 'just', 've']\n",
            "---------------------------------------------------------------\n",
            "Lets understand topic-9\n",
            "Top 5 words which represent this topic are :\n",
            "['friends', 'didn', 'time', 'got', 'just']\n",
            "---------------------------------------------------------------\n"
          ],
          "name": "stdout"
        }
      ]
    },
    {
      "cell_type": "markdown",
      "metadata": {
        "id": "2sBh5Ohpv6i4"
      },
      "source": [
        "###Attaching Labels to discovered topics"
      ]
    },
    {
      "cell_type": "code",
      "metadata": {
        "id": "x7f5vdQhv-l9"
      },
      "source": [
        "topics = lda.transform(df_fitt)"
      ],
      "execution_count": 91,
      "outputs": []
    },
    {
      "cell_type": "code",
      "metadata": {
        "colab": {
          "base_uri": "https://localhost:8080/"
        },
        "id": "fl-dRvS2wSL7",
        "outputId": "2caee405-b8b3-41c2-9374-8151629dbe40"
      },
      "source": [
        "topics.shape"
      ],
      "execution_count": 92,
      "outputs": [
        {
          "output_type": "execute_result",
          "data": {
            "text/plain": [
              "(32165, 10)"
            ]
          },
          "metadata": {
            "tags": []
          },
          "execution_count": 92
        }
      ]
    },
    {
      "cell_type": "markdown",
      "metadata": {
        "id": "YOGalUDuwlTp"
      },
      "source": [
        "Each sentence has been assigned the probability score of being assosiated with some topic out of the 10 that we found out"
      ]
    },
    {
      "cell_type": "code",
      "metadata": {
        "colab": {
          "base_uri": "https://localhost:8080/"
        },
        "id": "CkrBs7s5wjkd",
        "outputId": "2bfcbf33-87aa-4d8a-b8d1-fc4eb82e5939"
      },
      "source": [
        "topics.argmax(axis = 1)"
      ],
      "execution_count": 101,
      "outputs": [
        {
          "output_type": "execute_result",
          "data": {
            "text/plain": [
              "array([1, 3, 8, ..., 9, 2, 3])"
            ]
          },
          "metadata": {
            "tags": []
          },
          "execution_count": 101
        }
      ]
    },
    {
      "cell_type": "code",
      "metadata": {
        "id": "_rBz2_3pw8-U"
      },
      "source": [
        "topics = topics.argmax(axis = 1)"
      ],
      "execution_count": 102,
      "outputs": []
    },
    {
      "cell_type": "code",
      "metadata": {
        "id": "F8NncAe_xlVR"
      },
      "source": [
        "d = {'sentences':df,'topics':topics}"
      ],
      "execution_count": 103,
      "outputs": []
    },
    {
      "cell_type": "code",
      "metadata": {
        "id": "x0bb5mQBxaCu"
      },
      "source": [
        "df = pd.DataFrame(d)"
      ],
      "execution_count": 104,
      "outputs": []
    },
    {
      "cell_type": "code",
      "metadata": {
        "colab": {
          "base_uri": "https://localhost:8080/",
          "height": 204
        },
        "id": "lLTTWBU8xs_J",
        "outputId": "485aeeed-9250-4d3a-f6cb-381cafbe9dac"
      },
      "source": [
        "df.head()"
      ],
      "execution_count": 105,
      "outputs": [
        {
          "output_type": "execute_result",
          "data": {
            "text/html": [
              "<div>\n",
              "<style scoped>\n",
              "    .dataframe tbody tr th:only-of-type {\n",
              "        vertical-align: middle;\n",
              "    }\n",
              "\n",
              "    .dataframe tbody tr th {\n",
              "        vertical-align: top;\n",
              "    }\n",
              "\n",
              "    .dataframe thead th {\n",
              "        text-align: right;\n",
              "    }\n",
              "</style>\n",
              "<table border=\"1\" class=\"dataframe\">\n",
              "  <thead>\n",
              "    <tr style=\"text-align: right;\">\n",
              "      <th></th>\n",
              "      <th>sentences</th>\n",
              "      <th>topics</th>\n",
              "    </tr>\n",
              "  </thead>\n",
              "  <tbody>\n",
              "    <tr>\n",
              "      <th>0</th>\n",
              "      <td>It came in the mail a few weeks ago, so I put ...</td>\n",
              "      <td>1</td>\n",
              "    </tr>\n",
              "    <tr>\n",
              "      <th>1</th>\n",
              "      <td>It's one of those nights where I want to kill ...</td>\n",
              "      <td>3</td>\n",
              "    </tr>\n",
              "    <tr>\n",
              "      <th>2</th>\n",
              "      <td>I have been suffering with depression for 3 ye...</td>\n",
              "      <td>8</td>\n",
              "    </tr>\n",
              "    <tr>\n",
              "      <th>3</th>\n",
              "      <td>How do you all deal with feelings of isolation...</td>\n",
              "      <td>6</td>\n",
              "    </tr>\n",
              "    <tr>\n",
              "      <th>4</th>\n",
              "      <td>There are people out there enjoying life, are ...</td>\n",
              "      <td>1</td>\n",
              "    </tr>\n",
              "  </tbody>\n",
              "</table>\n",
              "</div>"
            ],
            "text/plain": [
              "                                           sentences  topics\n",
              "0  It came in the mail a few weeks ago, so I put ...       1\n",
              "1  It's one of those nights where I want to kill ...       3\n",
              "2  I have been suffering with depression for 3 ye...       8\n",
              "3  How do you all deal with feelings of isolation...       6\n",
              "4  There are people out there enjoying life, are ...       1"
            ]
          },
          "metadata": {
            "tags": []
          },
          "execution_count": 105
        }
      ]
    },
    {
      "cell_type": "code",
      "metadata": {
        "id": "5dgOAKsZxuar"
      },
      "source": [
        ""
      ],
      "execution_count": null,
      "outputs": []
    }
  ]
}