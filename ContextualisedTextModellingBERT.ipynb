{
  "nbformat": 4,
  "nbformat_minor": 0,
  "metadata": {
    "colab": {
      "name": "ContextualisedTextModellingBERT.ipynb",
      "provenance": [],
      "authorship_tag": "ABX9TyO1HOCV6jJpWaNEqFlpn9bD",
      "include_colab_link": true
    },
    "kernelspec": {
      "name": "python3",
      "display_name": "Python 3"
    },
    "language_info": {
      "name": "python"
    },
    "accelerator": "GPU",
    "widgets": {
      "application/vnd.jupyter.widget-state+json": {
        "13962d0ebbb84c3eb9fd66fed103c2f5": {
          "model_module": "@jupyter-widgets/controls",
          "model_name": "HBoxModel",
          "state": {
            "_view_name": "HBoxView",
            "_dom_classes": [],
            "_model_name": "HBoxModel",
            "_view_module": "@jupyter-widgets/controls",
            "_model_module_version": "1.5.0",
            "_view_count": null,
            "_view_module_version": "1.5.0",
            "box_style": "",
            "layout": "IPY_MODEL_8a9ef9eb372e40cdb40fe35b2006ad94",
            "_model_module": "@jupyter-widgets/controls",
            "children": [
              "IPY_MODEL_b4adb625e9464b958967ec6a99b55c97",
              "IPY_MODEL_04eb3795aa3e4aa98995ff0538423719",
              "IPY_MODEL_0956998b3ac44ae5a5a2ae70bb152526"
            ]
          }
        },
        "8a9ef9eb372e40cdb40fe35b2006ad94": {
          "model_module": "@jupyter-widgets/base",
          "model_name": "LayoutModel",
          "state": {
            "_view_name": "LayoutView",
            "grid_template_rows": null,
            "right": null,
            "justify_content": null,
            "_view_module": "@jupyter-widgets/base",
            "overflow": null,
            "_model_module_version": "1.2.0",
            "_view_count": null,
            "flex_flow": null,
            "width": null,
            "min_width": null,
            "border": null,
            "align_items": null,
            "bottom": null,
            "_model_module": "@jupyter-widgets/base",
            "top": null,
            "grid_column": null,
            "overflow_y": null,
            "overflow_x": null,
            "grid_auto_flow": null,
            "grid_area": null,
            "grid_template_columns": null,
            "flex": null,
            "_model_name": "LayoutModel",
            "justify_items": null,
            "grid_row": null,
            "max_height": null,
            "align_content": null,
            "visibility": null,
            "align_self": null,
            "height": null,
            "min_height": null,
            "padding": null,
            "grid_auto_rows": null,
            "grid_gap": null,
            "max_width": null,
            "order": null,
            "_view_module_version": "1.2.0",
            "grid_template_areas": null,
            "object_position": null,
            "object_fit": null,
            "grid_auto_columns": null,
            "margin": null,
            "display": null,
            "left": null
          }
        },
        "b4adb625e9464b958967ec6a99b55c97": {
          "model_module": "@jupyter-widgets/controls",
          "model_name": "HTMLModel",
          "state": {
            "_view_name": "HTMLView",
            "style": "IPY_MODEL_ac3634561abd42e796ccae6886fff91f",
            "_dom_classes": [],
            "description": "",
            "_model_name": "HTMLModel",
            "placeholder": "​",
            "_view_module": "@jupyter-widgets/controls",
            "_model_module_version": "1.5.0",
            "value": "Batches: 100%",
            "_view_count": null,
            "_view_module_version": "1.5.0",
            "description_tooltip": null,
            "_model_module": "@jupyter-widgets/controls",
            "layout": "IPY_MODEL_8e38e20803c3486dafc30c934191522d"
          }
        },
        "04eb3795aa3e4aa98995ff0538423719": {
          "model_module": "@jupyter-widgets/controls",
          "model_name": "FloatProgressModel",
          "state": {
            "_view_name": "ProgressView",
            "style": "IPY_MODEL_b1b87d2648ec44cd894e88d75b744c91",
            "_dom_classes": [],
            "description": "",
            "_model_name": "FloatProgressModel",
            "bar_style": "success",
            "max": 53,
            "_view_module": "@jupyter-widgets/controls",
            "_model_module_version": "1.5.0",
            "value": 53,
            "_view_count": null,
            "_view_module_version": "1.5.0",
            "orientation": "horizontal",
            "min": 0,
            "description_tooltip": null,
            "_model_module": "@jupyter-widgets/controls",
            "layout": "IPY_MODEL_5428edd6d8fe480984f582fe786bf2a2"
          }
        },
        "0956998b3ac44ae5a5a2ae70bb152526": {
          "model_module": "@jupyter-widgets/controls",
          "model_name": "HTMLModel",
          "state": {
            "_view_name": "HTMLView",
            "style": "IPY_MODEL_d7539f59e3bf42e29fdaad9ccacb8dcf",
            "_dom_classes": [],
            "description": "",
            "_model_name": "HTMLModel",
            "placeholder": "​",
            "_view_module": "@jupyter-widgets/controls",
            "_model_module_version": "1.5.0",
            "value": " 53/53 [1:08:29&lt;00:00, 61.98s/it]",
            "_view_count": null,
            "_view_module_version": "1.5.0",
            "description_tooltip": null,
            "_model_module": "@jupyter-widgets/controls",
            "layout": "IPY_MODEL_8786f4a1c5cf4b0c9fda6b2841bd849c"
          }
        },
        "ac3634561abd42e796ccae6886fff91f": {
          "model_module": "@jupyter-widgets/controls",
          "model_name": "DescriptionStyleModel",
          "state": {
            "_view_name": "StyleView",
            "_model_name": "DescriptionStyleModel",
            "description_width": "",
            "_view_module": "@jupyter-widgets/base",
            "_model_module_version": "1.5.0",
            "_view_count": null,
            "_view_module_version": "1.2.0",
            "_model_module": "@jupyter-widgets/controls"
          }
        },
        "8e38e20803c3486dafc30c934191522d": {
          "model_module": "@jupyter-widgets/base",
          "model_name": "LayoutModel",
          "state": {
            "_view_name": "LayoutView",
            "grid_template_rows": null,
            "right": null,
            "justify_content": null,
            "_view_module": "@jupyter-widgets/base",
            "overflow": null,
            "_model_module_version": "1.2.0",
            "_view_count": null,
            "flex_flow": null,
            "width": null,
            "min_width": null,
            "border": null,
            "align_items": null,
            "bottom": null,
            "_model_module": "@jupyter-widgets/base",
            "top": null,
            "grid_column": null,
            "overflow_y": null,
            "overflow_x": null,
            "grid_auto_flow": null,
            "grid_area": null,
            "grid_template_columns": null,
            "flex": null,
            "_model_name": "LayoutModel",
            "justify_items": null,
            "grid_row": null,
            "max_height": null,
            "align_content": null,
            "visibility": null,
            "align_self": null,
            "height": null,
            "min_height": null,
            "padding": null,
            "grid_auto_rows": null,
            "grid_gap": null,
            "max_width": null,
            "order": null,
            "_view_module_version": "1.2.0",
            "grid_template_areas": null,
            "object_position": null,
            "object_fit": null,
            "grid_auto_columns": null,
            "margin": null,
            "display": null,
            "left": null
          }
        },
        "b1b87d2648ec44cd894e88d75b744c91": {
          "model_module": "@jupyter-widgets/controls",
          "model_name": "ProgressStyleModel",
          "state": {
            "_view_name": "StyleView",
            "_model_name": "ProgressStyleModel",
            "description_width": "",
            "_view_module": "@jupyter-widgets/base",
            "_model_module_version": "1.5.0",
            "_view_count": null,
            "_view_module_version": "1.2.0",
            "bar_color": null,
            "_model_module": "@jupyter-widgets/controls"
          }
        },
        "5428edd6d8fe480984f582fe786bf2a2": {
          "model_module": "@jupyter-widgets/base",
          "model_name": "LayoutModel",
          "state": {
            "_view_name": "LayoutView",
            "grid_template_rows": null,
            "right": null,
            "justify_content": null,
            "_view_module": "@jupyter-widgets/base",
            "overflow": null,
            "_model_module_version": "1.2.0",
            "_view_count": null,
            "flex_flow": null,
            "width": null,
            "min_width": null,
            "border": null,
            "align_items": null,
            "bottom": null,
            "_model_module": "@jupyter-widgets/base",
            "top": null,
            "grid_column": null,
            "overflow_y": null,
            "overflow_x": null,
            "grid_auto_flow": null,
            "grid_area": null,
            "grid_template_columns": null,
            "flex": null,
            "_model_name": "LayoutModel",
            "justify_items": null,
            "grid_row": null,
            "max_height": null,
            "align_content": null,
            "visibility": null,
            "align_self": null,
            "height": null,
            "min_height": null,
            "padding": null,
            "grid_auto_rows": null,
            "grid_gap": null,
            "max_width": null,
            "order": null,
            "_view_module_version": "1.2.0",
            "grid_template_areas": null,
            "object_position": null,
            "object_fit": null,
            "grid_auto_columns": null,
            "margin": null,
            "display": null,
            "left": null
          }
        },
        "d7539f59e3bf42e29fdaad9ccacb8dcf": {
          "model_module": "@jupyter-widgets/controls",
          "model_name": "DescriptionStyleModel",
          "state": {
            "_view_name": "StyleView",
            "_model_name": "DescriptionStyleModel",
            "description_width": "",
            "_view_module": "@jupyter-widgets/base",
            "_model_module_version": "1.5.0",
            "_view_count": null,
            "_view_module_version": "1.2.0",
            "_model_module": "@jupyter-widgets/controls"
          }
        },
        "8786f4a1c5cf4b0c9fda6b2841bd849c": {
          "model_module": "@jupyter-widgets/base",
          "model_name": "LayoutModel",
          "state": {
            "_view_name": "LayoutView",
            "grid_template_rows": null,
            "right": null,
            "justify_content": null,
            "_view_module": "@jupyter-widgets/base",
            "overflow": null,
            "_model_module_version": "1.2.0",
            "_view_count": null,
            "flex_flow": null,
            "width": null,
            "min_width": null,
            "border": null,
            "align_items": null,
            "bottom": null,
            "_model_module": "@jupyter-widgets/base",
            "top": null,
            "grid_column": null,
            "overflow_y": null,
            "overflow_x": null,
            "grid_auto_flow": null,
            "grid_area": null,
            "grid_template_columns": null,
            "flex": null,
            "_model_name": "LayoutModel",
            "justify_items": null,
            "grid_row": null,
            "max_height": null,
            "align_content": null,
            "visibility": null,
            "align_self": null,
            "height": null,
            "min_height": null,
            "padding": null,
            "grid_auto_rows": null,
            "grid_gap": null,
            "max_width": null,
            "order": null,
            "_view_module_version": "1.2.0",
            "grid_template_areas": null,
            "object_position": null,
            "object_fit": null,
            "grid_auto_columns": null,
            "margin": null,
            "display": null,
            "left": null
          }
        }
      }
    }
  },
  "cells": [
    {
      "cell_type": "markdown",
      "metadata": {
        "id": "view-in-github",
        "colab_type": "text"
      },
      "source": [
        "<a href=\"https://colab.research.google.com/github/hvarS/NLPRefer/blob/main/ContextualisedTextModellingBERT.ipynb\" target=\"_parent\"><img src=\"https://colab.research.google.com/assets/colab-badge.svg\" alt=\"Open In Colab\"/></a>"
      ]
    },
    {
      "cell_type": "markdown",
      "metadata": {
        "id": "uNTpefNHUfQd"
      },
      "source": [
        "##Imports"
      ]
    },
    {
      "cell_type": "code",
      "metadata": {
        "id": "oAN7dm8_UhHP"
      },
      "source": [
        "import pandas as pd\n",
        "import numpy as np"
      ],
      "execution_count": 1,
      "outputs": []
    },
    {
      "cell_type": "code",
      "metadata": {
        "id": "AvwgWF8eYttw"
      },
      "source": [
        "from contextualized_topic_models.models.ctm import CombinedTM\n",
        "from contextualized_topic_models.utils.data_preparation import bert_embeddings_from_list, TopicModelDataPreparation\n",
        "from contextualized_topic_models.datasets.dataset import CTMDataset\n",
        "from contextualized_topic_models.evaluation.measures import CoherenceNPMI, InvertedRBO\n",
        "from gensim.corpora.dictionary import Dictionary\n",
        "from gensim.test.utils import common_texts\n",
        "from gensim.models import ldamodel \n",
        "from contextualized_topic_models.utils.preprocessing import WhiteSpacePreprocessing\n",
        "import nltk\n",
        "import os\n",
        "import pickle"
      ],
      "execution_count": 8,
      "outputs": []
    },
    {
      "cell_type": "markdown",
      "metadata": {
        "id": "o2IWlXv6TrkR"
      },
      "source": [
        "##API SETUP and GET Dataset"
      ]
    },
    {
      "cell_type": "code",
      "metadata": {
        "colab": {
          "base_uri": "https://localhost:8080/"
        },
        "id": "4xskcw_8R8k7",
        "outputId": "732f0098-88f2-4513-a28d-a100574799c7"
      },
      "source": [
        "from google.colab import drive\n",
        "drive.mount('/content/gdrive')\n",
        "\n",
        "\n",
        "def setup_dataset(text):\n",
        "  import shutil\n",
        "  import os\n",
        "  %cd /content/gdrive/My Drive/Kaggle/\n",
        "  strings = text.split(' ')[-1]\n",
        "  folder = strings.split('/')[1]\n",
        "  os.environ['KAGGLE_CONFIG_DIR'] = \"/content/gdrive/My Drive/Kaggle/\"+folder\n",
        "  print(strings)\n",
        "  print(folder)\n",
        "  !mkdir $folder\n",
        "  shutil.copy2(\"kaggle.json\",\"./\"+folder+\"/kaggle.json\")\n",
        "  %cd $folder\n",
        "  !kaggle datasets download -d $strings\n",
        "  \n",
        "setup_dataset(\"kaggle datasets download -d onurserbetci/data-science-job-market-in-uk\")"
      ],
      "execution_count": 2,
      "outputs": [
        {
          "output_type": "stream",
          "text": [
            "Drive already mounted at /content/gdrive; to attempt to forcibly remount, call drive.mount(\"/content/gdrive\", force_remount=True).\n",
            "/content/gdrive/My Drive/Kaggle\n",
            "onurserbetci/data-science-job-market-in-uk\n",
            "data-science-job-market-in-uk\n",
            "mkdir: cannot create directory ‘data-science-job-market-in-uk’: File exists\n",
            "/content/gdrive/My Drive/Kaggle/data-science-job-market-in-uk\n",
            "data-science-job-market-in-uk.zip: Skipping, found more recently modified local copy (use --force to force download)\n"
          ],
          "name": "stdout"
        }
      ]
    },
    {
      "cell_type": "code",
      "metadata": {
        "colab": {
          "base_uri": "https://localhost:8080/"
        },
        "id": "hZinlpx6TqBi",
        "outputId": "afdc3c29-46ca-4cb4-ce36-6676c6d09020"
      },
      "source": [
        "%ls"
      ],
      "execution_count": 6,
      "outputs": [
        {
          "output_type": "stream",
          "text": [
            "data-science-job-market-in-uk.zip  indeed-uk.csv  kaggle.json  ml.csv\n",
            "data_scientist.csv                 junior.csv     lead.csv     not_lead.csv\n"
          ],
          "name": "stdout"
        }
      ]
    },
    {
      "cell_type": "code",
      "metadata": {
        "colab": {
          "base_uri": "https://localhost:8080/"
        },
        "id": "IIVbPkpgT5hn",
        "outputId": "49b773fb-ea04-4457-eae4-a29662a023a7"
      },
      "source": [
        "!unzip data-science-job-market-in-uk.zip"
      ],
      "execution_count": 3,
      "outputs": [
        {
          "output_type": "stream",
          "text": [
            "Archive:  data-science-job-market-in-uk.zip\n",
            "  inflating: data_scientist.csv      \n",
            "  inflating: indeed-uk.csv           \n",
            "  inflating: junior.csv              \n",
            "  inflating: lead.csv                \n",
            "  inflating: ml.csv                  \n",
            "  inflating: not_lead.csv            \n"
          ],
          "name": "stdout"
        }
      ]
    },
    {
      "cell_type": "code",
      "metadata": {
        "id": "gfge7iuIT8rm"
      },
      "source": [
        "df1 = pd.read_csv(\"data_scientist.csv\")\n",
        "df2 = pd.read_csv(\"indeed-uk.csv\")\n",
        "df3 = pd.read_csv(\"junior.csv\")\n",
        "df4 = pd.read_csv(\"lead.csv\")\n",
        "df5 = pd.read_csv(\"ml.csv\")\n",
        "df6 = pd.read_csv(\"not_lead.csv\")"
      ],
      "execution_count": 3,
      "outputs": []
    },
    {
      "cell_type": "code",
      "metadata": {
        "id": "EMnm04HcVMr1"
      },
      "source": [
        "df = pd.DataFrame(columns = [\"Description\"])"
      ],
      "execution_count": 4,
      "outputs": []
    },
    {
      "cell_type": "code",
      "metadata": {
        "id": "oVcJiOw8VlOP"
      },
      "source": [
        "df.Description = pd.concat([df.Description,df1.Description,df2.Description,df3.Description,df4.Description,df5.Description,df6.Description])"
      ],
      "execution_count": 5,
      "outputs": []
    },
    {
      "cell_type": "code",
      "metadata": {
        "colab": {
          "base_uri": "https://localhost:8080/"
        },
        "id": "_fZMOI1WWy0x",
        "outputId": "177147a1-aaac-4a71-a6e1-57746cb3532b"
      },
      "source": [
        "df.shape"
      ],
      "execution_count": 6,
      "outputs": [
        {
          "output_type": "execute_result",
          "data": {
            "text/plain": [
              "(10455, 1)"
            ]
          },
          "metadata": {
            "tags": []
          },
          "execution_count": 6
        }
      ]
    },
    {
      "cell_type": "markdown",
      "metadata": {
        "id": "KP5f3ioyXCTN"
      },
      "source": [
        "*We have a total of 10455 Job Descriptions*"
      ]
    },
    {
      "cell_type": "markdown",
      "metadata": {
        "id": "Og8TAcU1XZ16"
      },
      "source": [
        "##Installing Relevant Packages"
      ]
    },
    {
      "cell_type": "code",
      "metadata": {
        "colab": {
          "base_uri": "https://localhost:8080/"
        },
        "id": "Mzc-vMydXdKT",
        "outputId": "9cfe7eb9-d249-4c9e-bc1f-420005f6a942"
      },
      "source": [
        "!pip install contextualized-topic-models==1.8.1\n",
        "!pip install torch==1.6.0+cu101 torchvision==0.7.0+cu101 -f https://download.pytorch.org/whl/torch_stable.html"
      ],
      "execution_count": 7,
      "outputs": [
        {
          "output_type": "stream",
          "text": [
            "Requirement already satisfied: contextualized-topic-models==1.8.1 in /usr/local/lib/python3.7/dist-packages (1.8.1)\n",
            "Requirement already satisfied: tqdm==4.56.0 in /usr/local/lib/python3.7/dist-packages (from contextualized-topic-models==1.8.1) (4.56.0)\n",
            "Requirement already satisfied: scipy==1.4.1 in /usr/local/lib/python3.7/dist-packages (from contextualized-topic-models==1.8.1) (1.4.1)\n",
            "Requirement already satisfied: gensim==3.8.3 in /usr/local/lib/python3.7/dist-packages (from contextualized-topic-models==1.8.1) (3.8.3)\n",
            "Requirement already satisfied: numpy==1.19.1 in /usr/local/lib/python3.7/dist-packages (from contextualized-topic-models==1.8.1) (1.19.1)\n",
            "Requirement already satisfied: wordcloud==1.8.1 in /usr/local/lib/python3.7/dist-packages (from contextualized-topic-models==1.8.1) (1.8.1)\n",
            "Requirement already satisfied: sentence-transformers==0.4.1 in /usr/local/lib/python3.7/dist-packages (from contextualized-topic-models==1.8.1) (0.4.1)\n",
            "Requirement already satisfied: matplotlib==3.1.3 in /usr/local/lib/python3.7/dist-packages (from contextualized-topic-models==1.8.1) (3.1.3)\n",
            "Requirement already satisfied: torchvision==0.7.0 in /usr/local/lib/python3.7/dist-packages (from contextualized-topic-models==1.8.1) (0.7.0+cu101)\n",
            "Requirement already satisfied: torch==1.6.0 in /usr/local/lib/python3.7/dist-packages (from contextualized-topic-models==1.8.1) (1.6.0+cu101)\n",
            "Requirement already satisfied: six>=1.5.0 in /usr/local/lib/python3.7/dist-packages (from gensim==3.8.3->contextualized-topic-models==1.8.1) (1.15.0)\n",
            "Requirement already satisfied: smart-open>=1.8.1 in /usr/local/lib/python3.7/dist-packages (from gensim==3.8.3->contextualized-topic-models==1.8.1) (5.0.0)\n",
            "Requirement already satisfied: pillow in /usr/local/lib/python3.7/dist-packages (from wordcloud==1.8.1->contextualized-topic-models==1.8.1) (7.1.2)\n",
            "Requirement already satisfied: scikit-learn in /usr/local/lib/python3.7/dist-packages (from sentence-transformers==0.4.1->contextualized-topic-models==1.8.1) (0.22.2.post1)\n",
            "Requirement already satisfied: nltk in /usr/local/lib/python3.7/dist-packages (from sentence-transformers==0.4.1->contextualized-topic-models==1.8.1) (3.2.5)\n",
            "Requirement already satisfied: transformers<5.0.0,>=3.1.0 in /usr/local/lib/python3.7/dist-packages (from sentence-transformers==0.4.1->contextualized-topic-models==1.8.1) (4.5.1)\n",
            "Requirement already satisfied: sentencepiece in /usr/local/lib/python3.7/dist-packages (from sentence-transformers==0.4.1->contextualized-topic-models==1.8.1) (0.1.95)\n",
            "Requirement already satisfied: python-dateutil>=2.1 in /usr/local/lib/python3.7/dist-packages (from matplotlib==3.1.3->contextualized-topic-models==1.8.1) (2.8.1)\n",
            "Requirement already satisfied: cycler>=0.10 in /usr/local/lib/python3.7/dist-packages (from matplotlib==3.1.3->contextualized-topic-models==1.8.1) (0.10.0)\n",
            "Requirement already satisfied: pyparsing!=2.0.4,!=2.1.2,!=2.1.6,>=2.0.1 in /usr/local/lib/python3.7/dist-packages (from matplotlib==3.1.3->contextualized-topic-models==1.8.1) (2.4.7)\n",
            "Requirement already satisfied: kiwisolver>=1.0.1 in /usr/local/lib/python3.7/dist-packages (from matplotlib==3.1.3->contextualized-topic-models==1.8.1) (1.3.1)\n",
            "Requirement already satisfied: future in /usr/local/lib/python3.7/dist-packages (from torch==1.6.0->contextualized-topic-models==1.8.1) (0.16.0)\n",
            "Requirement already satisfied: joblib>=0.11 in /usr/local/lib/python3.7/dist-packages (from scikit-learn->sentence-transformers==0.4.1->contextualized-topic-models==1.8.1) (1.0.1)\n",
            "Requirement already satisfied: importlib-metadata; python_version < \"3.8\" in /usr/local/lib/python3.7/dist-packages (from transformers<5.0.0,>=3.1.0->sentence-transformers==0.4.1->contextualized-topic-models==1.8.1) (3.10.1)\n",
            "Requirement already satisfied: packaging in /usr/local/lib/python3.7/dist-packages (from transformers<5.0.0,>=3.1.0->sentence-transformers==0.4.1->contextualized-topic-models==1.8.1) (20.9)\n",
            "Requirement already satisfied: sacremoses in /usr/local/lib/python3.7/dist-packages (from transformers<5.0.0,>=3.1.0->sentence-transformers==0.4.1->contextualized-topic-models==1.8.1) (0.0.45)\n",
            "Requirement already satisfied: filelock in /usr/local/lib/python3.7/dist-packages (from transformers<5.0.0,>=3.1.0->sentence-transformers==0.4.1->contextualized-topic-models==1.8.1) (3.0.12)\n",
            "Requirement already satisfied: requests in /usr/local/lib/python3.7/dist-packages (from transformers<5.0.0,>=3.1.0->sentence-transformers==0.4.1->contextualized-topic-models==1.8.1) (2.23.0)\n",
            "Requirement already satisfied: regex!=2019.12.17 in /usr/local/lib/python3.7/dist-packages (from transformers<5.0.0,>=3.1.0->sentence-transformers==0.4.1->contextualized-topic-models==1.8.1) (2019.12.20)\n",
            "Requirement already satisfied: tokenizers<0.11,>=0.10.1 in /usr/local/lib/python3.7/dist-packages (from transformers<5.0.0,>=3.1.0->sentence-transformers==0.4.1->contextualized-topic-models==1.8.1) (0.10.2)\n",
            "Requirement already satisfied: zipp>=0.5 in /usr/local/lib/python3.7/dist-packages (from importlib-metadata; python_version < \"3.8\"->transformers<5.0.0,>=3.1.0->sentence-transformers==0.4.1->contextualized-topic-models==1.8.1) (3.4.1)\n",
            "Requirement already satisfied: typing-extensions>=3.6.4; python_version < \"3.8\" in /usr/local/lib/python3.7/dist-packages (from importlib-metadata; python_version < \"3.8\"->transformers<5.0.0,>=3.1.0->sentence-transformers==0.4.1->contextualized-topic-models==1.8.1) (3.7.4.3)\n",
            "Requirement already satisfied: click in /usr/local/lib/python3.7/dist-packages (from sacremoses->transformers<5.0.0,>=3.1.0->sentence-transformers==0.4.1->contextualized-topic-models==1.8.1) (7.1.2)\n",
            "Requirement already satisfied: urllib3!=1.25.0,!=1.25.1,<1.26,>=1.21.1 in /usr/local/lib/python3.7/dist-packages (from requests->transformers<5.0.0,>=3.1.0->sentence-transformers==0.4.1->contextualized-topic-models==1.8.1) (1.24.3)\n",
            "Requirement already satisfied: certifi>=2017.4.17 in /usr/local/lib/python3.7/dist-packages (from requests->transformers<5.0.0,>=3.1.0->sentence-transformers==0.4.1->contextualized-topic-models==1.8.1) (2020.12.5)\n",
            "Requirement already satisfied: idna<3,>=2.5 in /usr/local/lib/python3.7/dist-packages (from requests->transformers<5.0.0,>=3.1.0->sentence-transformers==0.4.1->contextualized-topic-models==1.8.1) (2.10)\n",
            "Requirement already satisfied: chardet<4,>=3.0.2 in /usr/local/lib/python3.7/dist-packages (from requests->transformers<5.0.0,>=3.1.0->sentence-transformers==0.4.1->contextualized-topic-models==1.8.1) (3.0.4)\n",
            "Looking in links: https://download.pytorch.org/whl/torch_stable.html\n",
            "Requirement already satisfied: torch==1.6.0+cu101 in /usr/local/lib/python3.7/dist-packages (1.6.0+cu101)\n",
            "Requirement already satisfied: torchvision==0.7.0+cu101 in /usr/local/lib/python3.7/dist-packages (0.7.0+cu101)\n",
            "Requirement already satisfied: future in /usr/local/lib/python3.7/dist-packages (from torch==1.6.0+cu101) (0.16.0)\n",
            "Requirement already satisfied: numpy in /usr/local/lib/python3.7/dist-packages (from torch==1.6.0+cu101) (1.19.1)\n",
            "Requirement already satisfied: pillow>=4.1.1 in /usr/local/lib/python3.7/dist-packages (from torchvision==0.7.0+cu101) (7.1.2)\n"
          ],
          "name": "stdout"
        }
      ]
    },
    {
      "cell_type": "markdown",
      "metadata": {
        "id": "mrjU4A2AYyTx"
      },
      "source": [
        "##Data Preprocessing"
      ]
    },
    {
      "cell_type": "code",
      "metadata": {
        "colab": {
          "base_uri": "https://localhost:8080/"
        },
        "id": "wMFFcQ44Yz3S",
        "outputId": "1bd57259-cc1c-45d8-ae4e-c9f1ba78c133"
      },
      "source": [
        "nltk.download(\"stopwords\")"
      ],
      "execution_count": 9,
      "outputs": [
        {
          "output_type": "stream",
          "text": [
            "[nltk_data] Downloading package stopwords to /root/nltk_data...\n",
            "[nltk_data]   Unzipping corpora/stopwords.zip.\n"
          ],
          "name": "stdout"
        },
        {
          "output_type": "execute_result",
          "data": {
            "text/plain": [
              "True"
            ]
          },
          "metadata": {
            "tags": []
          },
          "execution_count": 9
        }
      ]
    },
    {
      "cell_type": "code",
      "metadata": {
        "id": "M12jpMyDZTxw"
      },
      "source": [
        "descriptions = []\n",
        "for i in range(len(list(df.Description))):\n",
        "  query = list(df.Description)[i]\n",
        "  stripped = query.strip()\n",
        "  descriptions.append(stripped)"
      ],
      "execution_count": 14,
      "outputs": []
    },
    {
      "cell_type": "code",
      "metadata": {
        "colab": {
          "base_uri": "https://localhost:8080/"
        },
        "id": "QuA-kZq_ZaUb",
        "outputId": "b47ba0d9-bd68-4e02-bb30-beb9a50930b7"
      },
      "source": [
        "print(descriptions[9])"
      ],
      "execution_count": 17,
      "outputs": [
        {
          "output_type": "stream",
          "text": [
            "SoulTeks client, a fast growing fin tech startup in London are looking for an Insights Data Scientist to join the team. This role is focussing primarily on taking large data sets and gaining insights for 3rd party clients. The data is truly massive and the possibilities it presents are just as big.\r\n",
            "For this role the key skills you will need are:\r\n",
            "Commercial experience working as a Data Scientist.\r\n",
            "Data Visualisation experience\r\n",
            "Python or R coding experience\r\n",
            "Experience working independently and the ability to pick up new technologies quickly.\r\n",
            "Ideally you will have worked with financial data before.\r\n",
            "If this job sounds interesting to you please apply below.\r\n",
            "\r\n",
            "Job Overview\r\n",
            "Expiration date:\r\n",
            "31st July 2020\r\n",
            "Location:\r\n",
            "London\r\n",
            "Job Title:\r\n",
            "Insights Data Scientist\r\n",
            "Salary:\r\n",
            "£45,000 - £60,000\n"
          ],
          "name": "stdout"
        }
      ]
    },
    {
      "cell_type": "code",
      "metadata": {
        "id": "WaE1bKE0aVUE"
      },
      "source": [
        "sp = WhiteSpacePreprocessing(descriptions,\"english\")"
      ],
      "execution_count": 18,
      "outputs": []
    },
    {
      "cell_type": "code",
      "metadata": {
        "id": "vF8ZcfkqanFX"
      },
      "source": [
        "preprocessed_documents_for_bow, unpreprocessed_corpus_for_contextual, vocab = sp.preprocess()"
      ],
      "execution_count": 19,
      "outputs": []
    },
    {
      "cell_type": "code",
      "metadata": {
        "colab": {
          "base_uri": "https://localhost:8080/",
          "height": 86
        },
        "id": "Oapyc5OYasQM",
        "outputId": "d9e5f5ea-cd46-4fed-e95c-c07237f376fd"
      },
      "source": [
        "preprocessed_documents_for_bow[9]"
      ],
      "execution_count": 21,
      "outputs": [
        {
          "output_type": "execute_result",
          "data": {
            "application/vnd.google.colaboratory.intrinsic+json": {
              "type": "string"
            },
            "text/plain": [
              "'client fast growing tech startup london looking insights data scientist join team role primarily taking large data sets insights party clients data truly big role key skills need commercial experience working data scientist data visualisation experience python coding experience experience working independently ability new technologies quickly ideally worked financial data job interesting please apply job overview date july location london job title insights data scientist salary'"
            ]
          },
          "metadata": {
            "tags": []
          },
          "execution_count": 21
        }
      ]
    },
    {
      "cell_type": "code",
      "metadata": {
        "id": "LaQFd6ooaxKD"
      },
      "source": [
        "df[\"preprocessed_documents_for_bow\"] = preprocessed_documents_for_bow\n",
        "df[\"unpreprocessed_corpus_for_contextual\"] = unpreprocessed_corpus_for_contextual"
      ],
      "execution_count": 22,
      "outputs": []
    },
    {
      "cell_type": "code",
      "metadata": {
        "id": "O8T5IJyKbF9S"
      },
      "source": [
        ""
      ],
      "execution_count": null,
      "outputs": []
    },
    {
      "cell_type": "markdown",
      "metadata": {
        "id": "D-Iys3hGbK9i"
      },
      "source": [
        "##Training Dataset Creation"
      ]
    },
    {
      "cell_type": "code",
      "metadata": {
        "colab": {
          "base_uri": "https://localhost:8080/",
          "height": 66,
          "referenced_widgets": [
            "13962d0ebbb84c3eb9fd66fed103c2f5",
            "8a9ef9eb372e40cdb40fe35b2006ad94",
            "b4adb625e9464b958967ec6a99b55c97",
            "04eb3795aa3e4aa98995ff0538423719",
            "0956998b3ac44ae5a5a2ae70bb152526",
            "ac3634561abd42e796ccae6886fff91f",
            "8e38e20803c3486dafc30c934191522d",
            "b1b87d2648ec44cd894e88d75b744c91",
            "5428edd6d8fe480984f582fe786bf2a2",
            "d7539f59e3bf42e29fdaad9ccacb8dcf",
            "8786f4a1c5cf4b0c9fda6b2841bd849c"
          ]
        },
        "id": "QOjB8zUqbQX7",
        "outputId": "3d727a89-ddce-4870-9ccd-fdfecfdaf596"
      },
      "source": [
        "qt = TopicModelDataPreparation(\"bert-base-nli-mean-tokens\")\n",
        "\n",
        "training_dataset = qt.create_training_set(unpreprocessed_corpus_for_contextual, preprocessed_documents_for_bow)"
      ],
      "execution_count": 24,
      "outputs": [
        {
          "output_type": "stream",
          "text": [
            "100%|██████████| 405M/405M [00:16<00:00, 23.9MB/s]\n"
          ],
          "name": "stderr"
        },
        {
          "output_type": "display_data",
          "data": {
            "application/vnd.jupyter.widget-view+json": {
              "model_id": "13962d0ebbb84c3eb9fd66fed103c2f5",
              "version_minor": 0,
              "version_major": 2
            },
            "text/plain": [
              "Batches:   0%|          | 0/53 [00:00<?, ?it/s]"
            ]
          },
          "metadata": {
            "tags": []
          }
        }
      ]
    },
    {
      "cell_type": "code",
      "metadata": {
        "id": "hWegtBP4bT8H"
      },
      "source": [
        "pickle_out = open(\"training_data.pickle\",\"wb\")\n",
        "pickle.dump(training_dataset, pickle_out)"
      ],
      "execution_count": 27,
      "outputs": []
    },
    {
      "cell_type": "markdown",
      "metadata": {
        "id": "kZQr0V7Yswmo"
      },
      "source": [
        "##Training"
      ]
    },
    {
      "cell_type": "code",
      "metadata": {
        "colab": {
          "base_uri": "https://localhost:8080/"
        },
        "id": "RX61Pi3Esyff",
        "outputId": "2a8ee573-9205-4023-d2ba-72d99121d58d"
      },
      "source": [
        "ctm = CombinedTM(input_size=len(qt.vocab), bert_input_size=768, n_components=6, num_epochs=15)\n",
        "\n",
        "ctm.fit(training_dataset) "
      ],
      "execution_count": 28,
      "outputs": [
        {
          "output_type": "stream",
          "text": [
            "Epoch: [15/15]\t Seen Samples: [156825/156825]\tTrain Loss: 2263.4745460455524\tTime: 0:00:11.129987: : 15it [02:47, 11.16s/it]\n"
          ],
          "name": "stderr"
        }
      ]
    },
    {
      "cell_type": "markdown",
      "metadata": {
        "id": "t5Mx0ZG-uCQz"
      },
      "source": [
        "##Topics Identified"
      ]
    },
    {
      "cell_type": "code",
      "metadata": {
        "colab": {
          "base_uri": "https://localhost:8080/"
        },
        "id": "ybeX6HRXs2xI",
        "outputId": "37841b73-594c-4108-d883-7b89cbfef9e4"
      },
      "source": [
        "ctm.get_topics(k = 1)"
      ],
      "execution_count": 32,
      "outputs": [
        {
          "output_type": "execute_result",
          "data": {
            "text/plain": [
              "defaultdict(list,\n",
              "            {0: ['architectural'],\n",
              "             1: ['management'],\n",
              "             2: ['azure'],\n",
              "             3: ['architectural'],\n",
              "             4: ['even'],\n",
              "             5: ['languages']})"
            ]
          },
          "metadata": {
            "tags": []
          },
          "execution_count": 32
        }
      ]
    },
    {
      "cell_type": "markdown",
      "metadata": {
        "id": "y8nJ0kbbuF5u"
      },
      "source": [
        "##Analysing the search document topics"
      ]
    },
    {
      "cell_type": "code",
      "metadata": {
        "colab": {
          "base_uri": "https://localhost:8080/"
        },
        "id": "9Xs-zPdauReK",
        "outputId": "88e0b0f0-7a2b-476d-fa2b-b8b78ddbee43"
      },
      "source": [
        "topics_predictions = ctm.get_doc_topic_distribution(training_dataset, n_samples=20)"
      ],
      "execution_count": 33,
      "outputs": [
        {
          "output_type": "stream",
          "text": [
            "Sampling: [20/20]: : 20it [01:31,  4.55s/it]\n"
          ],
          "name": "stderr"
        }
      ]
    },
    {
      "cell_type": "code",
      "metadata": {
        "colab": {
          "base_uri": "https://localhost:8080/",
          "height": 137
        },
        "id": "DlI--YJyuY-J",
        "outputId": "987fc135-8c66-49d9-f5b5-cfd1ed668184"
      },
      "source": [
        "preprocessed_documents_for_bow[0]"
      ],
      "execution_count": 35,
      "outputs": [
        {
          "output_type": "execute_result",
          "data": {
            "application/vnd.google.colaboratory.intrinsic+json": {
              "type": "string"
            },
            "text/plain": [
              "'company description years ostc become one leading proprietary trading companies world success based hiring developing talented people helping perform maximum fulfil potential trading company however unlike many trading companies continually innovating new products support business zishi comprehensive platform knowledge training ostc trading business across world partnering world leading artificial intelligence specialists university college london upon extensive ostc data bring valuable performance enhancing insights tools individual collective trading experience job description role working closely co head zishi chief technology officer senior stakeholders within business external expert partners primary focus help create embed ai powered technology key areas business main responsibilities include handling vast amount data various data sources integrate clean verify integrity translating business opportunities challenges data data actionable business insights effective decision making features building optimizing using machine learning statistical techniques knowledgeable proactive data related ethical issues enhancing data collection procedures include information relevant building analytic systems proactive technology test evaluating data mining models select appropriate ones context responsibility data science strategy go person data related question ostc qualifications driven candidate strong background machine learning successfully help drive creation deployment products ostc well third party clients genuine passion data products improve business performance within domain areas trading education possess ability understand wider business strategy think critically work contributes overall strategic goals solid work experience involving quantitative data analysis machine learning statistical analysis solve problems develop data oriented products degree advanced degree preferred applied math statistics computer science related fields excellent understanding machine learning techniques algorithms random forests etc excellent applied statistics skills statistical testing regression etc good scripting programming skills preferably using python optional spss experience database interrogation analysis tools hadoop sql additional information offering entrepreneurial culture truly international environment work business clear growth plan flexible working hours remote work opportunities clear personal progression development plan take opportunity built company financial success closely technical achievement always people bring enthusiasm ability execute team terms conditions ostc limited strongly committed protecting privacy personal information ostc job applicant privacy notice treat information submit collect part recruitment process using ostc careers website personal information site agree ostc limited may process personal information purposes ostc job applicant privacy notice ostc limited data controller information provide website promote working environment diversity recognised valued encouraged ostc equal opportunity employer therefore promotions made basis performance ability'"
            ]
          },
          "metadata": {
            "tags": []
          },
          "execution_count": 35
        }
      ]
    },
    {
      "cell_type": "code",
      "metadata": {
        "id": "Zb_44zWTvSkt"
      },
      "source": [
        "import numpy as np\n",
        "topic_number = np.argmax(topics_predictions[0])"
      ],
      "execution_count": 36,
      "outputs": []
    },
    {
      "cell_type": "code",
      "metadata": {
        "colab": {
          "base_uri": "https://localhost:8080/"
        },
        "id": "CD_xPTmrvjzX",
        "outputId": "e36e7eda-d0d7-4a38-dd00-4c4d08892826"
      },
      "source": [
        "ctm.get_topic_lists(5)[topic_number]"
      ],
      "execution_count": 37,
      "outputs": [
        {
          "output_type": "execute_result",
          "data": {
            "text/plain": [
              "['languages', 'data', 'investigation', 'pipeline', 'apple']"
            ]
          },
          "metadata": {
            "tags": []
          },
          "execution_count": 37
        }
      ]
    },
    {
      "cell_type": "code",
      "metadata": {
        "id": "6cs5NLuevnJN"
      },
      "source": [
        ""
      ],
      "execution_count": null,
      "outputs": []
    }
  ]
}