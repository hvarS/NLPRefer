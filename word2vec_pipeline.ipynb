{
  "nbformat": 4,
  "nbformat_minor": 0,
  "metadata": {
    "colab": {
      "name": "word2vec_pipeline.ipynb",
      "provenance": [],
      "authorship_tag": "ABX9TyPKfKJjPI3C17xcMyUrjn3o",
      "include_colab_link": true
    },
    "kernelspec": {
      "name": "python3",
      "display_name": "Python 3"
    },
    "language_info": {
      "name": "python"
    }
  },
  "cells": [
    {
      "cell_type": "markdown",
      "metadata": {
        "id": "view-in-github",
        "colab_type": "text"
      },
      "source": [
        "<a href=\"https://colab.research.google.com/github/hvarS/NLPRefer/blob/main/word2vec_pipeline.ipynb\" target=\"_parent\"><img src=\"https://colab.research.google.com/assets/colab-badge.svg\" alt=\"Open In Colab\"/></a>"
      ]
    },
    {
      "cell_type": "markdown",
      "metadata": {
        "id": "R9iXsrfCIZPN"
      },
      "source": [
        "###Imports and Data"
      ]
    },
    {
      "cell_type": "code",
      "metadata": {
        "colab": {
          "base_uri": "https://localhost:8080/"
        },
        "id": "R-ItnnthIemj",
        "outputId": "9e6d66e6-8981-4f6c-9be3-aebd25b83473"
      },
      "source": [
        "import nltk\n",
        "import numpy as np\n",
        "#Tokenizer Download\n",
        "nltk.download('punkt')\n",
        "#Stopwords Download\n",
        "nltk.download(\"stopwords\")\n",
        "nltk.download('wordnet')"
      ],
      "execution_count": 19,
      "outputs": [
        {
          "output_type": "stream",
          "text": [
            "[nltk_data] Downloading package punkt to /root/nltk_data...\n",
            "[nltk_data]   Package punkt is already up-to-date!\n",
            "[nltk_data] Downloading package stopwords to /root/nltk_data...\n",
            "[nltk_data]   Package stopwords is already up-to-date!\n",
            "[nltk_data] Downloading package wordnet to /root/nltk_data...\n",
            "[nltk_data]   Package wordnet is already up-to-date!\n"
          ],
          "name": "stdout"
        },
        {
          "output_type": "execute_result",
          "data": {
            "text/plain": [
              "True"
            ]
          },
          "metadata": {
            "tags": []
          },
          "execution_count": 19
        }
      ]
    },
    {
      "cell_type": "code",
      "metadata": {
        "id": "xZNGAY-SIQNX"
      },
      "source": [
        "paragraph =  \"Fans, for the past two weeks you have been reading about the bad break I got. Yet today I consider myself the luckiest man on the face of this earth. I have been in ballparks for seventeen years and have never received anything but kindness and encouragement from you fans.Look at these grand men. Which of you wouldn't consider it the highlight of his career just to associate with them for even one day? Sure, I'm lucky. Who wouldn't consider it an honor to have known Jacob Ruppert? Also, the builder of baseball's greatest empire, Ed Barrow? To have spent six years with that wonderful little fellow, Miller Huggins? Then to have spent the next nine years with that outstanding leader, that smart student of psychology, the best manager in baseball today, Joe McCarthy? Sure, I'm lucky.When the New York Giants, a team you would give your right arm to beat, and vice versa, sends you a gift - that's something. When everybody down to the groundskeepers and those boys in white coats remember you with trophies - that's something. When you have a wonderful mother-in-law who takes sides with you in squabbles with her own daughter - that's something. When you have a father and a mother who work all their lives so you can have an education and build your body - it's a blessing. When you have a wife who has been a tower of strength and shown more courage than you dreamed existed - that's the finest I know.\""
      ],
      "execution_count": 20,
      "outputs": []
    },
    {
      "cell_type": "markdown",
      "metadata": {
        "id": "xvFRpcuwIjR8"
      },
      "source": [
        "###Preprocessing"
      ]
    },
    {
      "cell_type": "code",
      "metadata": {
        "id": "VbK2pNmlI98w"
      },
      "source": [
        "import re\n",
        "from nltk.corpus import stopwords\n",
        "from nltk.stem.porter import PorterStemmer\n",
        "from nltk.stem import WordNetLemmatizer"
      ],
      "execution_count": 21,
      "outputs": []
    },
    {
      "cell_type": "code",
      "metadata": {
        "id": "SkjsyKYlIlLl"
      },
      "source": [
        "# Cleaning the texts\n",
        "\n",
        "#Using Stemming \n",
        "ps = PorterStemmer()\n",
        "\n",
        "sentences = nltk.sent_tokenize(paragraph)\n",
        "corpus_stemmed = []\n",
        "for i in range(len(sentences)):\n",
        "    review = re.sub('[^a-zA-Z]', ' ', sentences[i])\n",
        "    review = review.lower()\n",
        "    review = review.split()\n",
        "    review = [ps.stem(word) for word in review if not word in set(stopwords.words('english'))]\n",
        "    review = ' '.join(review)\n",
        "    corpus_stemmed.append(review)"
      ],
      "execution_count": 22,
      "outputs": []
    },
    {
      "cell_type": "code",
      "metadata": {
        "colab": {
          "base_uri": "https://localhost:8080/"
        },
        "id": "Gzq6SN_bJd5N",
        "outputId": "2fdf05cf-104b-452f-f121-bac8b7f6913f"
      },
      "source": [
        "sentences"
      ],
      "execution_count": 23,
      "outputs": [
        {
          "output_type": "execute_result",
          "data": {
            "text/plain": [
              "['Fans, for the past two weeks you have been reading about the bad break I got.',\n",
              " 'Yet today I consider myself the luckiest man on the face of this earth.',\n",
              " 'I have been in ballparks for seventeen years and have never received anything but kindness and encouragement from you fans.Look at these grand men.',\n",
              " \"Which of you wouldn't consider it the highlight of his career just to associate with them for even one day?\",\n",
              " \"Sure, I'm lucky.\",\n",
              " \"Who wouldn't consider it an honor to have known Jacob Ruppert?\",\n",
              " \"Also, the builder of baseball's greatest empire, Ed Barrow?\",\n",
              " 'To have spent six years with that wonderful little fellow, Miller Huggins?',\n",
              " 'Then to have spent the next nine years with that outstanding leader, that smart student of psychology, the best manager in baseball today, Joe McCarthy?',\n",
              " \"Sure, I'm lucky.When the New York Giants, a team you would give your right arm to beat, and vice versa, sends you a gift - that's something.\",\n",
              " \"When everybody down to the groundskeepers and those boys in white coats remember you with trophies - that's something.\",\n",
              " \"When you have a wonderful mother-in-law who takes sides with you in squabbles with her own daughter - that's something.\",\n",
              " \"When you have a father and a mother who work all their lives so you can have an education and build your body - it's a blessing.\",\n",
              " \"When you have a wife who has been a tower of strength and shown more courage than you dreamed existed - that's the finest I know.\"]"
            ]
          },
          "metadata": {
            "tags": []
          },
          "execution_count": 23
        }
      ]
    },
    {
      "cell_type": "code",
      "metadata": {
        "colab": {
          "base_uri": "https://localhost:8080/"
        },
        "id": "JPmVBdQhJcYM",
        "outputId": "ce5a2775-8d4b-4ca4-8735-9be0df0853a0"
      },
      "source": [
        "corpus_stemmed"
      ],
      "execution_count": 24,
      "outputs": [
        {
          "output_type": "execute_result",
          "data": {
            "text/plain": [
              "['fan past two week read bad break got',\n",
              " 'yet today consid luckiest man face earth',\n",
              " 'ballpark seventeen year never receiv anyth kind encourag fan look grand men',\n",
              " 'consid highlight career associ even one day',\n",
              " 'sure lucki',\n",
              " 'consid honor known jacob ruppert',\n",
              " 'also builder basebal greatest empir ed barrow',\n",
              " 'spent six year wonder littl fellow miller huggin',\n",
              " 'spent next nine year outstand leader smart student psycholog best manag basebal today joe mccarthi',\n",
              " 'sure lucki new york giant team would give right arm beat vice versa send gift someth',\n",
              " 'everybodi groundskeep boy white coat rememb trophi someth',\n",
              " 'wonder mother law take side squabbl daughter someth',\n",
              " 'father mother work live educ build bodi bless',\n",
              " 'wife tower strength shown courag dream exist finest know']"
            ]
          },
          "metadata": {
            "tags": []
          },
          "execution_count": 24
        }
      ]
    },
    {
      "cell_type": "code",
      "metadata": {
        "id": "39wdpzJ2I7J_"
      },
      "source": [
        "wordnet=WordNetLemmatizer()\n",
        "corpus_lemmatized = []\n",
        "for i in range(len(sentences)):\n",
        "    review = re.sub('[^a-zA-Z]', ' ', sentences[i])\n",
        "    review = review.lower()\n",
        "    review = review.split()\n",
        "    review = [wordnet.lemmatize(word) for word in review if not word in set(stopwords.words('english'))]\n",
        "    review = ' '.join(review)\n",
        "    corpus_lemmatized.append(review)"
      ],
      "execution_count": 25,
      "outputs": []
    },
    {
      "cell_type": "code",
      "metadata": {
        "id": "ETKPeqBvJztL",
        "colab": {
          "base_uri": "https://localhost:8080/"
        },
        "outputId": "8ff6b8e6-e596-4dcc-dbd4-621ec3fd8a18"
      },
      "source": [
        "sentences"
      ],
      "execution_count": 26,
      "outputs": [
        {
          "output_type": "execute_result",
          "data": {
            "text/plain": [
              "['Fans, for the past two weeks you have been reading about the bad break I got.',\n",
              " 'Yet today I consider myself the luckiest man on the face of this earth.',\n",
              " 'I have been in ballparks for seventeen years and have never received anything but kindness and encouragement from you fans.Look at these grand men.',\n",
              " \"Which of you wouldn't consider it the highlight of his career just to associate with them for even one day?\",\n",
              " \"Sure, I'm lucky.\",\n",
              " \"Who wouldn't consider it an honor to have known Jacob Ruppert?\",\n",
              " \"Also, the builder of baseball's greatest empire, Ed Barrow?\",\n",
              " 'To have spent six years with that wonderful little fellow, Miller Huggins?',\n",
              " 'Then to have spent the next nine years with that outstanding leader, that smart student of psychology, the best manager in baseball today, Joe McCarthy?',\n",
              " \"Sure, I'm lucky.When the New York Giants, a team you would give your right arm to beat, and vice versa, sends you a gift - that's something.\",\n",
              " \"When everybody down to the groundskeepers and those boys in white coats remember you with trophies - that's something.\",\n",
              " \"When you have a wonderful mother-in-law who takes sides with you in squabbles with her own daughter - that's something.\",\n",
              " \"When you have a father and a mother who work all their lives so you can have an education and build your body - it's a blessing.\",\n",
              " \"When you have a wife who has been a tower of strength and shown more courage than you dreamed existed - that's the finest I know.\"]"
            ]
          },
          "metadata": {
            "tags": []
          },
          "execution_count": 26
        }
      ]
    },
    {
      "cell_type": "code",
      "metadata": {
        "id": "eRe7q5EqJ5FC",
        "colab": {
          "base_uri": "https://localhost:8080/"
        },
        "outputId": "7fb653b2-3d1c-4ced-a8f7-9c4666ca664b"
      },
      "source": [
        "corpus_lemmatized"
      ],
      "execution_count": 27,
      "outputs": [
        {
          "output_type": "execute_result",
          "data": {
            "text/plain": [
              "['fan past two week reading bad break got',\n",
              " 'yet today consider luckiest man face earth',\n",
              " 'ballpark seventeen year never received anything kindness encouragement fan look grand men',\n",
              " 'consider highlight career associate even one day',\n",
              " 'sure lucky',\n",
              " 'consider honor known jacob ruppert',\n",
              " 'also builder baseball greatest empire ed barrow',\n",
              " 'spent six year wonderful little fellow miller huggins',\n",
              " 'spent next nine year outstanding leader smart student psychology best manager baseball today joe mccarthy',\n",
              " 'sure lucky new york giant team would give right arm beat vice versa sends gift something',\n",
              " 'everybody groundskeeper boy white coat remember trophy something',\n",
              " 'wonderful mother law take side squabble daughter something',\n",
              " 'father mother work life education build body blessing',\n",
              " 'wife tower strength shown courage dreamed existed finest know']"
            ]
          },
          "metadata": {
            "tags": []
          },
          "execution_count": 27
        }
      ]
    },
    {
      "cell_type": "markdown",
      "metadata": {
        "id": "WZwGTYg0WdX7"
      },
      "source": [
        "###Word2Vec\n"
      ]
    },
    {
      "cell_type": "code",
      "metadata": {
        "id": "Fs1efF8UgBao"
      },
      "source": [
        "##Tokenize sentences into words before Word2Vec"
      ],
      "execution_count": 56,
      "outputs": []
    },
    {
      "cell_type": "code",
      "metadata": {
        "id": "mig9TIA6fykB"
      },
      "source": [
        "sentences = [nltk.word_tokenize(sentence) for sentence in corpus_lemmatized]"
      ],
      "execution_count": 54,
      "outputs": []
    },
    {
      "cell_type": "code",
      "metadata": {
        "id": "ttQy425HWew5"
      },
      "source": [
        "from gensim.models import Word2Vec"
      ],
      "execution_count": 57,
      "outputs": []
    },
    {
      "cell_type": "code",
      "metadata": {
        "id": "-0EfviWbWoN_"
      },
      "source": [
        "w2v = Word2Vec(sentences,min_count=1)"
      ],
      "execution_count": 58,
      "outputs": []
    },
    {
      "cell_type": "code",
      "metadata": {
        "id": "0P-50Lblbkzp"
      },
      "source": [
        "words = w2v.wv.vocab"
      ],
      "execution_count": 59,
      "outputs": []
    },
    {
      "cell_type": "code",
      "metadata": {
        "colab": {
          "base_uri": "https://localhost:8080/"
        },
        "id": "AOwWpCfuetrN",
        "outputId": "025bbba2-8382-4518-df4f-6eb50fa1f207"
      },
      "source": [
        "list(words.keys())"
      ],
      "execution_count": 64,
      "outputs": [
        {
          "output_type": "execute_result",
          "data": {
            "text/plain": [
              "['fan',\n",
              " 'past',\n",
              " 'two',\n",
              " 'week',\n",
              " 'reading',\n",
              " 'bad',\n",
              " 'break',\n",
              " 'got',\n",
              " 'yet',\n",
              " 'today',\n",
              " 'consider',\n",
              " 'luckiest',\n",
              " 'man',\n",
              " 'face',\n",
              " 'earth',\n",
              " 'ballpark',\n",
              " 'seventeen',\n",
              " 'year',\n",
              " 'never',\n",
              " 'received',\n",
              " 'anything',\n",
              " 'kindness',\n",
              " 'encouragement',\n",
              " 'look',\n",
              " 'grand',\n",
              " 'men',\n",
              " 'highlight',\n",
              " 'career',\n",
              " 'associate',\n",
              " 'even',\n",
              " 'one',\n",
              " 'day',\n",
              " 'sure',\n",
              " 'lucky',\n",
              " 'honor',\n",
              " 'known',\n",
              " 'jacob',\n",
              " 'ruppert',\n",
              " 'also',\n",
              " 'builder',\n",
              " 'baseball',\n",
              " 'greatest',\n",
              " 'empire',\n",
              " 'ed',\n",
              " 'barrow',\n",
              " 'spent',\n",
              " 'six',\n",
              " 'wonderful',\n",
              " 'little',\n",
              " 'fellow',\n",
              " 'miller',\n",
              " 'huggins',\n",
              " 'next',\n",
              " 'nine',\n",
              " 'outstanding',\n",
              " 'leader',\n",
              " 'smart',\n",
              " 'student',\n",
              " 'psychology',\n",
              " 'best',\n",
              " 'manager',\n",
              " 'joe',\n",
              " 'mccarthy',\n",
              " 'new',\n",
              " 'york',\n",
              " 'giant',\n",
              " 'team',\n",
              " 'would',\n",
              " 'give',\n",
              " 'right',\n",
              " 'arm',\n",
              " 'beat',\n",
              " 'vice',\n",
              " 'versa',\n",
              " 'sends',\n",
              " 'gift',\n",
              " 'something',\n",
              " 'everybody',\n",
              " 'groundskeeper',\n",
              " 'boy',\n",
              " 'white',\n",
              " 'coat',\n",
              " 'remember',\n",
              " 'trophy',\n",
              " 'mother',\n",
              " 'law',\n",
              " 'take',\n",
              " 'side',\n",
              " 'squabble',\n",
              " 'daughter',\n",
              " 'father',\n",
              " 'work',\n",
              " 'life',\n",
              " 'education',\n",
              " 'build',\n",
              " 'body',\n",
              " 'blessing',\n",
              " 'wife',\n",
              " 'tower',\n",
              " 'strength',\n",
              " 'shown',\n",
              " 'courage',\n",
              " 'dreamed',\n",
              " 'existed',\n",
              " 'finest',\n",
              " 'know']"
            ]
          },
          "metadata": {
            "tags": []
          },
          "execution_count": 64
        }
      ]
    },
    {
      "cell_type": "code",
      "metadata": {
        "colab": {
          "base_uri": "https://localhost:8080/"
        },
        "id": "H_TY7XeMg-B_",
        "outputId": "e2822815-9416-4e9f-e811-3bcc5cb760a1"
      },
      "source": [
        "w2v.wv[\"work\"].shape\n",
        "#100 dimension embedding"
      ],
      "execution_count": 68,
      "outputs": [
        {
          "output_type": "execute_result",
          "data": {
            "text/plain": [
              "(100,)"
            ]
          },
          "metadata": {
            "tags": []
          },
          "execution_count": 68
        }
      ]
    },
    {
      "cell_type": "code",
      "metadata": {
        "colab": {
          "base_uri": "https://localhost:8080/"
        },
        "id": "QW4Hr7lSevoM",
        "outputId": "3d0ffb14-c9fb-48d2-c56d-c829e21c35eb"
      },
      "source": [
        "vectorised_sentences = []\n",
        "for sentence in sentences:\n",
        "  s = []\n",
        "  for word in sentence:\n",
        "    vector = w2v.wv[word]\n",
        "    s.append(vector)\n",
        "  \n",
        "  s = np.array(s)\n",
        "  vectorised_sentences.append(s)\n",
        "\n",
        "vectorised_sentences = np.array(vectorised_sentences)"
      ],
      "execution_count": 69,
      "outputs": [
        {
          "output_type": "stream",
          "text": [
            "/usr/local/lib/python3.7/dist-packages/ipykernel_launcher.py:11: VisibleDeprecationWarning: Creating an ndarray from ragged nested sequences (which is a list-or-tuple of lists-or-tuples-or ndarrays with different lengths or shapes) is deprecated. If you meant to do this, you must specify 'dtype=object' when creating the ndarray\n",
            "  # This is added back by InteractiveShellApp.init_path()\n"
          ],
          "name": "stderr"
        }
      ]
    },
    {
      "cell_type": "code",
      "metadata": {
        "colab": {
          "base_uri": "https://localhost:8080/"
        },
        "id": "KAwHbjmWheOf",
        "outputId": "d30df03e-08a4-41f7-f1e0-8cc1eb9dff87"
      },
      "source": [
        "vectorised_sentences[0].shape #First Sentence has 8 words and each word has 100 dimensions"
      ],
      "execution_count": 74,
      "outputs": [
        {
          "output_type": "execute_result",
          "data": {
            "text/plain": [
              "(8, 100)"
            ]
          },
          "metadata": {
            "tags": []
          },
          "execution_count": 74
        }
      ]
    },
    {
      "cell_type": "code",
      "metadata": {
        "id": "N5f9fq-9hhKO"
      },
      "source": [
        "##To Use Google's pretrained Word2Vec\n",
        "# Load Google's pre-trained Word2Vec model.\n",
        "import gensim.downloader as api\n",
        "wv = api.load('word2vec-google-news-300')"
      ],
      "execution_count": 78,
      "outputs": []
    },
    {
      "cell_type": "code",
      "metadata": {
        "id": "mOJJVByHifyJ"
      },
      "source": [
        ""
      ],
      "execution_count": null,
      "outputs": []
    }
  ]
}